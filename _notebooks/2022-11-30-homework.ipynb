{
 "cells": [
  {
   "cell_type": "markdown",
   "metadata": {},
   "source": [
    "# Homework \n",
    "\n",
    "- toc: true\n",
    "- badges: true\n",
    "- comments: true\n",
    "- categories: [Week 13]"
   ]
  },
  {
   "cell_type": "markdown",
   "metadata": {},
   "source": [
    "## Homework/Hacks\n",
    "\n",
    " our homework we have decided for a decimal number to binary converter. You must use conditional statements within your code and have a input box for where the decimal number will go. This will give you a 2.7 out of 3 and you may add anything else to the code to get above a 2.7.\n",
    "\n"
   ]
  },
  {
   "cell_type": "markdown",
   "metadata": {},
   "source": [
    "Below is an example of decimal number to binary converter which you can use as a starting template."
   ]
  },
  {
   "cell_type": "code",
   "execution_count": 1,
   "metadata": {},
   "outputs": [
    {
     "name": "stdout",
     "output_type": "stream",
     "text": [
      "00000000000000000000000000000010"
     ]
    }
   ],
   "source": [
    "#def DecimalToBinary(num):\n",
    "#    strs = \"\"\n",
    "#    while num:\n",
    "#        # if (num & 1) = 1\n",
    "#        if (num & 1):\n",
    "#            strs += \"1\"\n",
    "      # if (num & 1) = 0\n",
    "#        else:\n",
    "#            strs += \"0\"\n",
    "#        # right shift by 1\n",
    "#        num >>= 1\n",
    "#    return strs\n",
    " \n",
    "# function to reverse the string\n",
    "#def reverse(strs):\n",
    "#    print(strs[::-1])\n",
    "# Driver Code\n",
    "#num = 14\n",
    "#print(\"Binary of num 19 is:\", end=\" \")\n",
    "#reverse(DecimalToBinary(num))\n",
    "\n",
    "NumInput = int(input(\"What decimal number would you like to convert to binary?\"))\n",
    "\n",
    "#x = int(NumInput)\n",
    "\n",
    "def DecBinConversion(x):\n",
    "    for i in range(31, -1, -1):\n",
    "        k = x >> i \n",
    "        if (k & 1):\n",
    "            print(\"1\", end=\"\")\n",
    "        else: \n",
    "            print(\"0\", end=\"\")\n",
    "x = NumInput\n",
    "DecBinConversion(x)"
   ]
  }
 ],
 "metadata": {
  "kernelspec": {
   "display_name": "Python 3.9.12 ('base')",
   "language": "python",
   "name": "python3"
  },
  "language_info": {
   "codemirror_mode": {
    "name": "ipython",
    "version": 3
   },
   "file_extension": ".py",
   "mimetype": "text/x-python",
   "name": "python",
   "nbconvert_exporter": "python",
   "pygments_lexer": "ipython3",
   "version": "3.9.12"
  },
  "orig_nbformat": 4,
  "vscode": {
   "interpreter": {
    "hash": "5e6e94ee7eb6faa549b0272dc29cdf01ee84757b8521322f0009accfa480a59f"
   }
  }
 },
 "nbformat": 4,
 "nbformat_minor": 2
}
