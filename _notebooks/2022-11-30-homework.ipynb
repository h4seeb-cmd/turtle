{
 "cells": [
  {
   "cell_type": "markdown",
   "metadata": {},
   "source": [
    "# Homework \n",
    "\n",
    "- toc: true\n",
    "- badges: true\n",
    "- comments: true\n",
    "- categories: [Week 13]"
   ]
  },
  {
   "cell_type": "markdown",
   "metadata": {},
   "source": [
    "## Homework/Hacks\n",
    "\n",
    " our homework we have decided for a decimal number to binary converter. You must use conditional statements within your code and have a input box for where the decimal number will go. This will give you a 2.7 out of 3 and you may add anything else to the code to get above a 2.7.\n",
    "\n"
   ]
  },
  {
   "cell_type": "markdown",
   "metadata": {},
   "source": [
    "Below is an example of decimal number to binary converter which you can use as a starting template."
   ]
  },
  {
   "cell_type": "code",
   "execution_count": 6,
   "metadata": {},
   "outputs": [
    {
     "ename": "ValueError",
     "evalue": "invalid literal for int() with base 10: ''",
     "output_type": "error",
     "traceback": [
      "\u001b[0;31m---------------------------------------------------------------------------\u001b[0m",
      "\u001b[0;31mValueError\u001b[0m                                Traceback (most recent call last)",
      "\u001b[1;32m/home/h4seeb/vscode/turtle/_notebooks/2022-11-30-homework.ipynb Cell 4\u001b[0m in \u001b[0;36m<cell line: 22>\u001b[0;34m()\u001b[0m\n\u001b[1;32m      <a href='vscode-notebook-cell://wsl%2Bubuntu-20.04/home/h4seeb/vscode/turtle/_notebooks/2022-11-30-homework.ipynb#W3sdnNjb2RlLXJlbW90ZQ%3D%3D?line=0'>1</a>\u001b[0m \u001b[39m#def DecimalToBinary(num):\u001b[39;00m\n\u001b[1;32m      <a href='vscode-notebook-cell://wsl%2Bubuntu-20.04/home/h4seeb/vscode/turtle/_notebooks/2022-11-30-homework.ipynb#W3sdnNjb2RlLXJlbW90ZQ%3D%3D?line=1'>2</a>\u001b[0m \u001b[39m#    strs = \"\"\u001b[39;00m\n\u001b[1;32m      <a href='vscode-notebook-cell://wsl%2Bubuntu-20.04/home/h4seeb/vscode/turtle/_notebooks/2022-11-30-homework.ipynb#W3sdnNjb2RlLXJlbW90ZQ%3D%3D?line=2'>3</a>\u001b[0m \u001b[39m#    while num:\u001b[39;00m\n\u001b[0;32m   (...)\u001b[0m\n\u001b[1;32m     <a href='vscode-notebook-cell://wsl%2Bubuntu-20.04/home/h4seeb/vscode/turtle/_notebooks/2022-11-30-homework.ipynb#W3sdnNjb2RlLXJlbW90ZQ%3D%3D?line=18'>19</a>\u001b[0m \u001b[39m#print(\"Binary of num 19 is:\", end=\" \")\u001b[39;00m\n\u001b[1;32m     <a href='vscode-notebook-cell://wsl%2Bubuntu-20.04/home/h4seeb/vscode/turtle/_notebooks/2022-11-30-homework.ipynb#W3sdnNjb2RlLXJlbW90ZQ%3D%3D?line=19'>20</a>\u001b[0m \u001b[39m#reverse(DecimalToBinary(num))\u001b[39;00m\n\u001b[0;32m---> <a href='vscode-notebook-cell://wsl%2Bubuntu-20.04/home/h4seeb/vscode/turtle/_notebooks/2022-11-30-homework.ipynb#W3sdnNjb2RlLXJlbW90ZQ%3D%3D?line=21'>22</a>\u001b[0m NumInput \u001b[39m=\u001b[39m \u001b[39mint\u001b[39;49m(\u001b[39minput\u001b[39;49m(\u001b[39m\"\u001b[39;49m\u001b[39mWhat decimal number would you like to convert to binary?\u001b[39;49m\u001b[39m\"\u001b[39;49m))\n\u001b[1;32m     <a href='vscode-notebook-cell://wsl%2Bubuntu-20.04/home/h4seeb/vscode/turtle/_notebooks/2022-11-30-homework.ipynb#W3sdnNjb2RlLXJlbW90ZQ%3D%3D?line=23'>24</a>\u001b[0m \u001b[39m#x = int(NumInput)\u001b[39;00m\n\u001b[1;32m     <a href='vscode-notebook-cell://wsl%2Bubuntu-20.04/home/h4seeb/vscode/turtle/_notebooks/2022-11-30-homework.ipynb#W3sdnNjb2RlLXJlbW90ZQ%3D%3D?line=25'>26</a>\u001b[0m \u001b[39mdef\u001b[39;00m \u001b[39mDecBinConversion\u001b[39m(x):\n",
      "\u001b[0;31mValueError\u001b[0m: invalid literal for int() with base 10: ''"
     ]
    }
   ],
   "source": [
    "#def DecimalToBinary(num):\n",
    "#    strs = \"\"\n",
    "#    while num:\n",
    "#        # if (num & 1) = 1\n",
    "#        if (num & 1):\n",
    "#            strs += \"1\"\n",
    "      # if (num & 1) = 0\n",
    "#        else:\n",
    "#            strs += \"0\"\n",
    "#        # right shift by 1\n",
    "#        num >>= 1\n",
    "#    return strs\n",
    " \n",
    "# function to reverse the string\n",
    "#def reverse(strs):\n",
    "#    print(strs[::-1])\n",
    "# Driver Code\n",
    "#num = 14\n",
    "#print(\"Binary of num 19 is:\", end=\" \")\n",
    "#reverse(DecimalToBinary(num))\n",
    "\n",
    "NumInput = int(input(\"What decimal number would you like to convert to binary?\"))\n",
    "\n",
    "#x = int(NumInput)\n",
    "\n",
    "def DecBinConversion(x):\n",
    "    for i in range(31, -1, -1):\n",
    "        k = x >> i \n",
    "        if (k & 1):\n",
    "            print(\"1\", end=\"\")\n",
    "        else: \n",
    "            print(\"0\", end=\"\")\n",
    "x = NumInput\n",
    "DecBinConversion(x)"
   ]
  }
 ],
 "metadata": {
  "kernelspec": {
   "display_name": "Python 3.9.12 ('base')",
   "language": "python",
   "name": "python3"
  },
  "language_info": {
   "codemirror_mode": {
    "name": "ipython",
    "version": 3
   },
   "file_extension": ".py",
   "mimetype": "text/x-python",
   "name": "python",
   "nbconvert_exporter": "python",
   "pygments_lexer": "ipython3",
   "version": "3.9.12"
  },
  "orig_nbformat": 4,
  "vscode": {
   "interpreter": {
    "hash": "5e6e94ee7eb6faa549b0272dc29cdf01ee84757b8521322f0009accfa480a59f"
   }
  }
 },
 "nbformat": 4,
 "nbformat_minor": 2
}
