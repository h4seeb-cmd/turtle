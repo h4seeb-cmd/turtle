{
 "cells": [
  {
   "cell_type": "markdown",
   "metadata": {},
   "source": [
    "# JavaScript Demonstration\n",
    ">Demonstration of the JavaScript kernel working in a Jupyter Notebook\n",
    "\n",
    "- title: \"JavaScript Demonstration\"\n",
    "- toc: true\n",
    "- comments: true\n",
    "- branch: master\n",
    "- comments: true \n",
    "- badges: true\n",
    "- author: Haseeb Beg\n",
    "- categories: [fastpages, jupyter, Week 5]\n",
    "- permalink: /submenu/js-trial-and-error\n",
    "\n",
    "\n",
    "Here is a demonstration of the Javascript kernel running in Jupyter Notebooks"
   ]
  },
  {
   "cell_type": "code",
   "execution_count": 6,
   "metadata": {},
   "outputs": [
    {
     "name": "stdout",
     "output_type": "stream",
     "text": [
      "y5\n"
     ]
    }
   ],
   "source": [
    "var Letters = [\"a\", \"b\", \"c\", \"d\", \"e\", \"f\", \"g\", \"h\", \"i\", \"j\", \"k\", \"l\", \"m\", \"n\", \"o\", \"p\", \"q\", \"r\", \"s\", \"t\", \"u\", \"v\", \"w\", \"x\", \"y\", \"z\"];\n",
    "var numbers = [\"1\", \"2\", \"3\", \"4\", \"5\"];\n",
    "var rLetters = Math.floor(Math.random()*Letters.length);\n",
    "var rNumbers = Math.floor(Math.random()*numbers.length);\n",
    "var user = Letters[rLetters] + numbers[rNumbers];\n",
    "console.log (user);"
   ]
  },
  {
   "cell_type": "code",
   "execution_count": 7,
   "metadata": {},
   "outputs": [
    {
     "data": {
      "text/html": [
       "<table><tr><th>Name</th><th>GitHub Username</th></tr><tr><td>Haseeb</td><td>h4seeb-cmd</td></tr><tr><td>Shaurya</td><td>STG-7</td></tr><tr><td>Tirth</td><td>Tirth-Thakkar</td></tr><tr><td>Evan</td><td>chewy-boba10</td></tr><tr><td>Alex</td><td>YLu-1258</td></tr></table>"
      ]
     },
     "execution_count": 7,
     "metadata": {},
     "output_type": "execute_result"
    }
   ],
   "source": [
    "// Defining variable team\n",
    "var team = {\n",
    "    Haseeb: \"h4seeb-cmd\",\n",
    "    Shaurya: \"STG-7\",\n",
    "    Tirth: \"Tirth-Thakkar\",\n",
    "    Evan: \"chewy-boba10\",\n",
    "    Alex: \"YLu-1258\"\n",
    "};\n",
    "\n",
    "// Creating the function to make the table\n",
    "function createTable(values){\n",
    "    var table = \"<table><tr><th>Name</th><th>GitHub Username</th></tr>\"\n",
    "    var keys = Object.keys(values);\n",
    "\n",
    "// Printing the values into the table\n",
    "    for(var index in keys){\n",
    "        const key = keys[index];\n",
    "        const value = team[key];\n",
    "        table += \"<tr><td>\"+key+\"</td><td>\"+value+\"</td></tr>\";\n",
    "    }\n",
    "    table += \"</table>\";\n",
    "    return table;\n",
    "}\n",
    "\n",
    "$$.html(createTable(team));"
   ]
  }
 ],
 "metadata": {
  "kernelspec": {
   "display_name": "JavaScript (Node.js)",
   "language": "javascript",
   "name": "javascript"
  },
  "language_info": {
   "file_extension": ".js",
   "mimetype": "application/javascript",
   "name": "javascript",
   "version": "6.11.2"
  },
  "orig_nbformat": 4
 },
 "nbformat": 4,
 "nbformat_minor": 2
}
