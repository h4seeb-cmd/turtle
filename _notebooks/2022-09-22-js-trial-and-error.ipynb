{
 "cells": [
  {
   "cell_type": "markdown",
   "metadata": {},
   "source": [
    "# JavaScript Testing\n",
    ">Demonstration of the JavaScript kernel working in a Jupyter Notebook\n",
    "\n",
    "- title: \"JavaScript Testing\"\n",
    "- toc: true\n",
    "- comments: true\n",
    "- branch: master\n",
    "- comments: true \n",
    "- badges: true\n",
    "- author: Haseeb Beg\n",
    "- categories: [fastpages, jupyter, Week 5]\n",
    "- permalink: /jstest/js-trial-and-error\n",
    "\n",
    "\n",
    "Here is a demonstration of the Javascript kernel running in Jupyter Notebooks"
   ]
  },
  {
   "cell_type": "code",
   "execution_count": null,
   "metadata": {},
   "outputs": [],
   "source": [
    "console.log(\"Wow, I can't believe it functions!\")"
   ]
  }
 ],
 "metadata": {
  "kernelspec": {
   "display_name": "JavaScript (Node.js)",
   "language": "javascript",
   "name": "javascript"
  },
  "language_info": {
   "file_extension": ".js",
   "mimetype": "application/javascript",
   "name": "javascript",
   "version": "6.11.2"
  },
  "orig_nbformat": 4
 },
 "nbformat": 4,
 "nbformat_minor": 2
}
