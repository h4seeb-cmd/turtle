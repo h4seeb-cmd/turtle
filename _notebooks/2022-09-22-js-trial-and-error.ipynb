{
 "cells": [
  {
   "cell_type": "markdown",
   "metadata": {},
   "source": [
    "# JavaScript Demonstration\n",
    ">Demonstration of the JavaScript kernel working in a Jupyter Notebook\n",
    "\n",
    "- title: \"JavaScript Demonstration\"\n",
    "- toc: true\n",
    "- comments: true\n",
    "- branch: master\n",
    "- comments: true \n",
    "- badges: true\n",
    "- author: Haseeb Beg\n",
    "- categories: [fastpages, jupyter, Week 5]\n",
    "- permalink: /jstest/js-trial-and-error\n",
    "\n",
    "\n",
    "Here is a demonstration of the Javascript kernel running in Jupyter Notebooks"
   ]
  },
  {
   "cell_type": "code",
   "execution_count": 18,
   "metadata": {},
   "outputs": [
    {
     "data": {
      "text/html": [
       "<table><tr><th>Name</th><th>GitHub Username</th></tr><tr><td>Haseeb</td><td>h4seeb-cmd</td></tr><tr><td>Shaurya</td><td>STG-7</td></tr><tr><td>Tirth</td><td>Tirth-Thakkar</td></tr><tr><td>Evan</td><td>chewyboba10</td></tr><tr><td>Alex</td><td>YLu-1258</td></tr></table>"
      ]
     },
     "execution_count": 18,
     "metadata": {},
     "output_type": "execute_result"
    }
   ],
   "source": [
    "// Defining variable team\n",
    "var team = {\n",
    "    Haseeb: \"h4seeb-cmd\",\n",
    "    Shaurya: \"STG-7\",\n",
    "    Tirth: \"Tirth-Thakkar\",\n",
    "    Evan: \"chewy-boba10\",\n",
    "    Alex: \"YLu-1258\"\n",
    "};\n",
    "\n",
    "// Creating the function to make the table\n",
    "function createTable(data){\n",
    "    var table = \"<table><tr><th>Name</th><th>GitHub Username</th></tr>\"\n",
    "    var keys = Object.keys(data);\n",
    "\n",
    "// Printing the values into the table\n",
    "    for(var index in keys){\n",
    "        const key = keys[index];\n",
    "        const value = team[key];\n",
    "        table += \"<tr><td>\"+key+\"</td><td>\"+value+\"</td></tr>\";\n",
    "    }\n",
    "    table += \"</table>\";\n",
    "    return table;\n",
    "}\n",
    "\n",
    "$$.html(createTable(team));"
   ]
  }
 ],
 "metadata": {
  "kernelspec": {
   "display_name": "JavaScript (Node.js)",
   "language": "javascript",
   "name": "javascript"
  },
  "language_info": {
   "file_extension": ".js",
   "mimetype": "application/javascript",
   "name": "javascript",
   "version": "6.11.2"
  },
  "orig_nbformat": 4
 },
 "nbformat": 4,
 "nbformat_minor": 2
}
