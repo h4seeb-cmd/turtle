{
 "cells": [
  {
   "attachments": {},
   "cell_type": "markdown",
   "metadata": {},
   "source": [
    "# CSA Presentation Notes\n",
    "- title: CSA Notes\n",
    "- toc: true\n",
    "- comments: true"
   ]
  },
  {
   "attachments": {},
   "cell_type": "markdown",
   "metadata": {},
   "source": [
    "# SERA Club Website\n",
    "\n",
    "Problem: Club info is very ungoranized. \n",
    "\n",
    "Purpose: To create a management system for DNHS clubs and ASB execs and provide students with consoldated, accurate,m and up to date list of clubns on campus (clubs database)\n",
    "\n",
    "Features and Design: \n",
    "- DevOps: Club List Database: lists all DNHS clubs, anyone veiwing the site can see the db, but only users can update their row. Includes CRUD concepts. Plan to include security and admin users.\n",
    "- Scrum Master: Club Review Database: Any user can make a review of a given club, and they can provide feedback for users to see.\n",
    "- Backend: Club Documents/Meetings: Clubs can add files to this. Model is the input field, how files will be uploaded. View is the connection thru front and backend, (the submit backend). Control is the database table and who has access to update and delete it. CRUD Concepts added.\n",
    "- Frontend: Club Search Bar: Club search feature where user can search topic of what user wants and it shows all teh clubs relating to the search querey.\n",
    "\n",
    "Frontend: Basic form with table with table shown. Hosted on Github Pages. \n",
    "\n",
    "Gen Notes:\n",
    "- Added a whole sprint schedule. \n",
    "- Added a scrum board, organized in ticked format.\n",
    "- Manifesto very short, and more about visuals."
   ]
  }
 ],
 "metadata": {
  "kernelspec": {
   "display_name": "Python 3",
   "language": "python",
   "name": "python3"
  },
  "language_info": {
   "name": "python",
   "version": "3.8.10"
  },
  "orig_nbformat": 4,
  "vscode": {
   "interpreter": {
    "hash": "916dbcbb3f70747c44a77c7bcd40155683ae19c65e1c03b4aa3499c5328201f1"
   }
  }
 },
 "nbformat": 4,
 "nbformat_minor": 2
}
