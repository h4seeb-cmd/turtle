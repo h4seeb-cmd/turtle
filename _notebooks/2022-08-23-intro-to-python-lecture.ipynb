{
 "cells": [
  {
   "cell_type": "markdown",
   "metadata": {},
   "source": [
    "# LECTURE 1\n",
    "\n",
    "- toc: true\n",
    "- branch: master\n",
    "- badges: true\n",
    "- comments: true\n",
    "- author: Haseeb Beg\n",
    "- categories: [fastpages, jupyter] \n",
    "- permalink: /lecture/pythonintrolecture\n"
   ]
  },
  {
   "cell_type": "markdown",
   "metadata": {},
   "source": [
    "# Notes\n",
    "\n",
    "-def = define, used to create parameters and functions in python.\n",
    "\n",
    "-sequence = college board vocab for many lines of code in an order.\n",
    "\n",
    "-static text = text that doesn't change. \n",
    ">ex: print(\"helloWorld\") \n",
    ">in this case, helloWorld is the static text, it doesn't change.\n",
    "\n",
    "-import = imports commands that other people develop. \n",
    ">ex: import getpass sys\n",
    "\n",
    "-if statements are used in python to evaluate a correct or incorrect response. \n",
    ">ex: if rsp == \"2\"\n",
    ">         print (rsp + \" is right!\")\n",
    ">         correct += 1\n",
    ">    else:\n",
    "         print(rsp + \" is WRONG! :< \")\n",
    "\n",
    "-rsp is used in if statements, represents \"response\"\n",
    "\n",
    "\n",
    "\n",
    "\n"
   ]
  }
 ],
 "metadata": {
  "kernelspec": {
   "display_name": "Python 3.8.10 64-bit",
   "language": "python",
   "name": "python3"
  },
  "language_info": {
   "name": "python",
   "version": "3.8.10"
  },
  "orig_nbformat": 4,
  "vscode": {
   "interpreter": {
    "hash": "916dbcbb3f70747c44a77c7bcd40155683ae19c65e1c03b4aa3499c5328201f1"
   }
  }
 },
 "nbformat": 4,
 "nbformat_minor": 2
}
