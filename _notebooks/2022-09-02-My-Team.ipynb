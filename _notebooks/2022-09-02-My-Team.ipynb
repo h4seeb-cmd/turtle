{
 "cells": [
  {
   "cell_type": "markdown",
   "metadata": {},
   "source": [
    "# "
   ]
  },
  {
   "cell_type": "markdown",
   "metadata": {},
   "source": [
    "# My Team\n",
    "\n",
    "- branch: master\n",
    "- layout: post\n",
    "- badges: true\n",
    "- comments: true\n",
    "- author: Haseeb Beg\n",
    "- categories: [fastpages, jupyter]"
   ]
  },
  {
   "cell_type": "code",
   "execution_count": 9,
   "metadata": {},
   "outputs": [
    {
     "name": "stdout",
     "output_type": "stream",
     "text": [
      "[{'First_Name': 'Tirth', 'Middle_Initial': 'S.', 'Last_Name': 'Thakkar', 'Date_of_Birth': 'December 26th, 2005', 'Grade': '11th', 'Residence': 'San Diego', 'Email': 'tirth1226@gmail.com', 'Likes': ['Reading', 'Board Games']}, {'First_Name': 'Mirza', 'Middle_Initial': 'H.', 'Last_Name': 'Beg', 'Date_of_Birth': 'December 6th, 2007', 'Grade': '10th', 'Residence': 'San Diego', 'Email': 'mirzahbeg123@gmail.com', 'Likes': ['Video Games', 'Coding', 'Working Out']}]\n"
     ]
    }
   ],
   "source": [
    "Team_Info = []\n",
    "Team_Info.append({\n",
    "    \"First_Name\": \"Mirza\",\n",
    "    \"Middle_Initial\": \"H.\",\n",
    "    \"Last_Name\": \"Beg\",\n",
    "    \"Date_of_Birth\": \"December 6th, 2007\",\n",
    "    \"Grade\": \"10th\",\n",
    "    \"Residence\": \"San Diego\",\n",
    "    \"Email\": \"mirzahbeg123@gmail.com\",\n",
    "    \"Likes\": [\"Video Games\", \"Coding\", \"Working Out\",]\n",
    "})\n",
    "\n",
    "Team_Info.append({\n",
    "    \"First_Name\": \"Tirth\",\n",
    "    \"Middle_Initial\": \"S.\",\n",
    "    \"Last_Name\": \"Thakkar\",\n",
    "    \"Date_of_Birth\": \"December 26th, 2005\",\n",
    "    \"Grade\": \"11th\",\n",
    "    \"Residence\": \"San Diego\",\n",
    "    \"Email\": \"tirth1226@gmail.com\",\n",
    "    \"Likes\": [\"Reading\", \"Board Games\",]\n",
    "})\n",
    "\n",
    "Team_Info.reverse()\n",
    "\n",
    "print(Team_Info)\n"
   ]
  },
  {
   "cell_type": "code",
   "execution_count": 11,
   "metadata": {},
   "outputs": [
    {
     "name": "stdout",
     "output_type": "stream",
     "text": [
      "\u001b[1;93m Tirth S. Thakkar \u001b[0m\n",
      "\n",
      "\t \u001b[3;96m Grade:  11th \u001b[0m\n",
      "\n",
      "\t \u001b[3;94m Birthday: December 26th, 2005 \u001b[0m\n",
      "\n",
      "\t \u001b[3;96m Residence: San Diego \u001b[0m\n",
      "\n",
      "\t \u001b[3;94m Interests: ['Reading', 'Board Games'] \u001b[0m\n",
      "\n",
      "\t \u001b[3;96m Contact Info: tirth1226@gmail.com \u001b[0m\n",
      "\n",
      "\u001b[1;93m Mirza H. Beg \u001b[0m\n",
      "\n",
      "\t \u001b[3;96m Grade:  10th \u001b[0m\n",
      "\n",
      "\t \u001b[3;94m Birthday: December 6th, 2007 \u001b[0m\n",
      "\n",
      "\t \u001b[3;96m Residence: San Diego \u001b[0m\n",
      "\n",
      "\t \u001b[3;94m Interests: ['Video Games', 'Coding', 'Working Out'] \u001b[0m\n",
      "\n",
      "\t \u001b[3;96m Contact Info: mirzahbeg123@gmail.com \u001b[0m\n",
      "\n"
     ]
    }
   ],
   "source": [
    "\n",
    "def print_data(d_rec):\n",
    "    print(\"\\x1b[1;93m\", d_rec[\"First_Name\"], d_rec[\"Middle_Initial\"], d_rec[\"Last_Name\"], \"\\x1b[0m\")\n",
    "    print(\"\")\n",
    "    print(\"\\t\", \"\\x1b[3;96m\", \"Grade: \", d_rec[\"Grade\"], \"\\x1b[0m\")  \n",
    "    print(\"\")\n",
    "    print(\"\\t\", \"\\x1b[3;94m\", \"Birthday:\", d_rec[\"Date_of_Birth\"], \"\\x1b[0m\")\n",
    "    print(\"\")\n",
    "    print(\"\\t\", \"\\x1b[3;96m\", \"Residence:\", d_rec[\"Residence\"], \"\\x1b[0m\")\n",
    "    print(\"\")\n",
    "    print(\"\\t\", \"\\x1b[3;94m\", \"Interests:\", d_rec[\"Likes\"], \"\\x1b[0m\")\n",
    "    print(\"\")\n",
    "    print(\"\\t\", \"\\x1b[3;96m\", \"Contact Info:\", d_rec[\"Email\"], \"\\x1b[0m\")\n",
    "    print()\n",
    "\n",
    "\n",
    "# for loop algorithm iterates on length of InfoDb\n",
    "def for_loop():\n",
    "    for record in Team_Info:\n",
    "        print_data(record)\n",
    "\n",
    "for_loop()"
   ]
  },
  {
   "cell_type": "code",
   "execution_count": null,
   "metadata": {},
   "outputs": [],
   "source": []
  },
  {
   "cell_type": "code",
   "execution_count": null,
   "metadata": {},
   "outputs": [],
   "source": [
    "\n",
    "\n"
   ]
  }
 ],
 "metadata": {
  "kernelspec": {
   "display_name": "Python 3.8.10 64-bit",
   "language": "python",
   "name": "python3"
  },
  "language_info": {
   "codemirror_mode": {
    "name": "ipython",
    "version": 3
   },
   "file_extension": ".py",
   "mimetype": "text/x-python",
   "name": "python",
   "nbconvert_exporter": "python",
   "pygments_lexer": "ipython3",
   "version": "3.8.10"
  },
  "orig_nbformat": 4,
  "vscode": {
   "interpreter": {
    "hash": "916dbcbb3f70747c44a77c7bcd40155683ae19c65e1c03b4aa3499c5328201f1"
   }
  }
 },
 "nbformat": 4,
 "nbformat_minor": 2
}
