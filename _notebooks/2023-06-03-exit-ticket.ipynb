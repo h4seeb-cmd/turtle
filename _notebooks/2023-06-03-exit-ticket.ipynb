{
 "cells": [
  {
   "cell_type": "markdown",
   "metadata": {},
   "source": [
    "# Exit Ticket\n",
    ">Demonstration of the JavaScript kernel working in a Jupyter Notebook\n",
    "\n",
    "- title: \"Exit Ticket\"\n",
    "- toc: true\n",
    "- comments: true\n",
    "- branch: master\n",
    "- comments: true \n",
    "- badges: true\n",
    "- author: Haseeb Beg\n",
    "- categories: [fastpages, jupyter, Week 5]\n",
    "\n",
    "\n",
    "JS exit ticket :)"
   ]
  },
  {
   "cell_type": "markdown",
   "metadata": {},
   "source": [
    "# Table:\n",
    "\n",
    "<head>\n",
    "    <!-- load jQuery and DataTables style and scripts -->\n",
    "    <link rel=\"stylesheet\" type=\"text/css\" href=\"https://cdn.datatables.net/1.13.4/css/jquery.dataTables.min.css\">\n",
    "    <script type=\"text/javascript\" language=\"javascript\" src=\"https://code.jquery.com/jquery-3.6.0.min.js\"></script>\n",
    "    <script>var define = null;</script>\n",
    "    <script type=\"text/javascript\" language=\"javascript\" src=\"https://cdn.datatables.net/1.13.4/js/jquery.dataTables.min.js\"></script>\n",
    "</head>\n",
    "<table id=\"flaskTable\" class=\"table\" style=\"width:100%\">\n",
    "    <thead id=\"flaskHead\">\n",
    "        <tr>\n",
    "            <th>Light Level: </th>\n",
    "        </tr>\n",
    "    </thead>\n",
    "    <tbody id=\"flaskBody\">\n",
    "        <tr>\n",
    "            <td id=\"lightLevelCell\"></td>\n",
    "        </tr>\n",
    "    </tbody>\n",
    "</table>\n",
    "<script>\n",
    "    const lightLevelCell = document.getElementById(\"lightLevelCell\");\n",
    "    url = \"http://127.0.0.1:8086/api/light/get\"\n",
    "    async function logJSONData() {\n",
    "        const response = await fetch(url);\n",
    "        const jsonData = await response.json();\n",
    "        console.log(jsonData);\n",
    "}\n",
    "</script>\n"
   ]
  },
  {
   "cell_type": "code",
   "execution_count": null,
   "metadata": {},
   "outputs": [],
   "source": []
  }
 ],
 "metadata": {
  "kernelspec": {
   "display_name": "JavaScript (Node.js)",
   "language": "javascript",
   "name": "javascript"
  },
  "language_info": {
   "file_extension": ".js",
   "mimetype": "application/javascript",
   "name": "javascript",
   "version": "6.11.2"
  }
 },
 "nbformat": 4,
 "nbformat_minor": 2
}
