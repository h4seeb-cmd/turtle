{
 "cells": [
  {
   "attachments": {},
   "cell_type": "markdown",
   "metadata": {},
   "source": [
    "# DevOps Lesson\n",
    "\n",
    "- toc: true\n",
    "- categories: []\n",
    "- type: pbl"
   ]
  },
  {
   "cell_type": "code",
   "execution_count": 4,
   "metadata": {},
   "outputs": [
    {
     "name": "stdout",
     "output_type": "stream",
     "text": [
      "104.18.40.133\n"
     ]
    }
   ],
   "source": [
    "import socket\n",
    "\n",
    "# Change the following host and see what IP it prints!\n",
    "host = \"crunchyroll.com\"\n",
    "ip = socket.gethostbyname(host)\n",
    "\n",
    "print(ip)"
   ]
  },
  {
   "cell_type": "code",
   "execution_count": null,
   "metadata": {},
   "outputs": [],
   "source": [
    "# Initiate a TCP connection to port 80\n",
    "with socket.socket(socket.AF_INET, socket.SOCK_STREAM) as s:\n",
    "    s.connect((ip, 80))\n",
    "    print(\"Successfully connected!\")"
   ]
  },
  {
   "attachments": {},
   "cell_type": "markdown",
   "metadata": {},
   "source": [
    "## Check-In\n",
    "\n",
    "1. What is an IP address?\n",
    "A way to uniquely identify a device on the internet. IP is short for Internet Protocol.\n",
    "2. What is a TCP port?\n",
    "TCP is used to send packets through computers. "
   ]
  },
  {
   "cell_type": "code",
   "execution_count": 7,
   "metadata": {},
   "outputs": [
    {
     "name": "stdout",
     "output_type": "stream",
     "text": [
      "HTTP/1.1 400 Bad Request\n",
      "Server: cloudflare\n",
      "Date: Wed, 26 Apr 2023 21:15:36 GMT\n",
      "Content-Type: text/html\n",
      "Content-Length: 155\n",
      "Connection: close\n",
      "CF-RAY: -\n",
      "\n",
      "<html>\n",
      "<head><title>400 Bad Request</title></head>\n",
      "<body>\n",
      "<center><h1>400 Bad Request</h1></center>\n",
      "<hr><center>cloudflare</center>\n",
      "</body>\n",
      "</html>\n",
      "\n"
     ]
    }
   ],
   "source": [
    "with socket.socket(socket.AF_INET, socket.SOCK_STREAM) as s:\n",
    "    s.connect((ip, 80))\n",
    "\n",
    "    # Send a GET request to \"/\"\n",
    "    s.sendall(b\"GET / HTTP/1.1\\r\\n\\r\\n\")\n",
    "\n",
    "    # Recieve & print 2048 bytes of data\n",
    "    data = s.recv(2048)\n",
    "    print(data.decode())"
   ]
  },
  {
   "cell_type": "code",
   "execution_count": 9,
   "metadata": {},
   "outputs": [
    {
     "name": "stdout",
     "output_type": "stream",
     "text": [
      "Status code: 200\n",
      "Headers: {'Date': 'Wed, 26 Apr 2023 21:17:51 GMT', 'Expires': '-1', 'Cache-Control': 'private, max-age=0', 'Content-Type': 'text/html; charset=ISO-8859-1', 'Content-Security-Policy-Report-Only': \"object-src 'none';base-uri 'self';script-src 'nonce-5O1qZ3GmE1XQaEOdfuKDtA' 'strict-dynamic' 'report-sample' 'unsafe-eval' 'unsafe-inline' https: http:;report-uri https://csp.withgoogle.com/csp/gws/other-hp\", 'P3P': 'CP=\"This is not a P3P policy! See g.co/p3phelp for more info.\"', 'Content-Encoding': 'gzip', 'Server': 'gws', 'X-XSS-Protection': '0', 'X-Frame-Options': 'SAMEORIGIN', 'Set-Cookie': '1P_JAR=2023-04-26-21; expires=Fri, 26-May-2023 21:17:51 GMT; path=/; domain=.google.com; Secure, AEC=AUEFqZeADJ-Bl5EXJo_H95Igtol-eaAddvyAoIXWpEWKCjt1pExsqBNV9Wg; expires=Mon, 23-Oct-2023 21:17:51 GMT; path=/; domain=.google.com; Secure; HttpOnly; SameSite=lax, NID=511=tNifUUWPcfgUYkLZ2gI64nyOm03ImVURI0Ye0s3EmH2pERIpK5VFyC-ozJ6HjD3UZofZsi-et2I3o3iEtK-WTiwA7tWNaowfi7hj-PToWYOCkJYTE2meLDWlGo3CwMlaEjTTfCJQ3U35RBTrRjpRX6U3reQuKu0ooLnOp2DL_4Y; expires=Thu, 26-Oct-2023 21:17:51 GMT; path=/; domain=.google.com; HttpOnly', 'Alt-Svc': 'h3=\":443\"; ma=2592000,h3-29=\":443\"; ma=2592000', 'Transfer-Encoding': 'chunked'}\n",
      "Response text: <!doctype html><html itemscope=\"\" itemtype=\"http://schema.org/WebPage\" lang=\"en\"><head><meta content\n"
     ]
    }
   ],
   "source": [
    "import requests\n",
    "\n",
    "# Change the URL to whatever you'd like\n",
    "response = requests.get(\"https://google.com\")\n",
    "\n",
    "print(\"Status code:\", response.status_code)\n",
    "print(\"Headers:\", response.headers)\n",
    "print(\"Response text:\", response.text[:100])\n",
    "\n",
    "# Add a line to print the \"Content-Type\" header of the response\n",
    "# Try an image URL!"
   ]
  },
  {
   "attachments": {},
   "cell_type": "markdown",
   "metadata": {},
   "source": [
    "# NGINX"
   ]
  },
  {
   "cell_type": "code",
   "execution_count": null,
   "metadata": {},
   "outputs": [],
   "source": [
    "aws = \"3.130.255.192\"\n",
    "\n",
    "response = requests.get(\"http://\" + aws)\n",
    "print(response.text)\n"
   ]
  },
  {
   "attachments": {},
   "cell_type": "markdown",
   "metadata": {},
   "source": [
    "## Configuration\n",
    "\n",
    "```nginx\n",
    "server {\n",
    "    // Listen on virtual \"port 80\"\n",
    "    listen 80;\n",
    "    listen [::]:80;\n",
    "    server_name 3.130.255.192;\n",
    "\n",
    "    location / {\n",
    "        // Inform server about original client\n",
    "        proxy_set_header        Host $host;\n",
    "        proxy_set_header        X-Real-IP $remote_addr;\n",
    "        proxy_set_header        X-Forwarded-For $proxy_add_x_forwarded_for;\n",
    "        proxy_set_header        X-Forwarded-Proto $scheme;\n",
    "\n",
    "        // Forward all requests transparently to the server running on our computer\n",
    "        proxy_pass              http://localhost:9099;\n",
    "    }\n",
    "}\n",
    "```\n",
    "\n",
    "\n",
    "### Load Balancing\n",
    "\n",
    "```nginx\n",
    "upstream example.com {\n",
    "    server server1.example.com;\n",
    "    server server1.example.com;\n",
    "}\n",
    "```\n",
    "\n",
    "### HTTP Headers\n",
    "\n",
    "```nginx\n",
    "server {\n",
    "    add_header X-Cool-Header \"I love APCSP!\";\n",
    "\n",
    "    location /pages {\n",
    "        add_header X-Cooler-Header \"This is my secret header!\";\n",
    "    }\n",
    "}\n",
    "```\n",
    "\n",
    "## Check In\n",
    "\n",
    "1. Research 1 HTTP header and describe, in detail, its purpose.\n",
    "2. Write a line in a sample NGINX configuration that will add that specific header to the `/information` location\n",
    "3. Explain the purpose of the load balancing performed by NGINX\n",
    "4. Modify the following code block to obtain the value of the secret header on `/products` of the AWS site\n"
   ]
  },
  {
   "cell_type": "code",
   "execution_count": 11,
   "metadata": {},
   "outputs": [
    {
     "name": "stdout",
     "output_type": "stream",
     "text": [
      "The secret header is: ...\n"
     ]
    }
   ],
   "source": [
    "aws = \"3.130.255.192\"\n",
    "\n",
    "response = requests.get(\"http://\" + aws + \"/products\")\n",
    "\n",
    "print(\"The secret header is:\", \"...\")"
   ]
  },
  {
   "attachments": {},
   "cell_type": "markdown",
   "metadata": {},
   "source": [
    "# Hacks\n",
    "\n",
    "- Complete the above check-in questions and change the hosts (0.1)\n",
    "- Complete the above code-segment to retrieve the secret header (0.1)\n",
    "\n",
    "## Bonus (0.05)\n",
    "\n",
    "Create a diagram showing the layers of abstraction that allow us to use HTTP (IP, TCP, etc.)"
   ]
  },
  {
   "attachments": {},
   "cell_type": "markdown",
   "metadata": {},
   "source": [
    "# CORS Hacks\n",
    "\n",
    "1. Explain what CORS is and what it stands for:\n",
    "CORS stands for Cross Origin Resource Sharing, and it's a security feature that prevents websites from stealing sensitive information.\n",
    "2. Describe how you would be able to implement CORS into your own websites\n",
    "3. Describe why you would want to implement CORS into your own websites:\n",
    "Without CORS, API requests are not possible, as API requests use Cross Origin requests.\n",
    "4. How could use CORS to benefit yourself in the future?: I could use CORS to h\n",
    "Total: 0.2 points\n",
    "\n",
    "# KASM Hacks\n",
    "\n",
    "1. What is the purpose of \"sudo\" when running commands in terminal?\n",
    "sudo is used to provide admin access to certain \n",
    "2. What are some commands which allow us to look at how the storage of a machine is set up as?\n",
    "3. What do you think are some alternatives to running \"curl -O\" to get the zip file for KASM?\n",
    "4. What kind of commands do you think the \"install.sh\" command has and why is it necessary to call it?\n",
    "5. Explain in at least 3-4 sentences how deploying KASM is related to/requires other topics talked about in the lesson and/or potential ways to add things mentioned in the lesson to this guide.\n",
    "\n",
    "Total: 0.2 points\n",
    "\n",
    "# AWS/RDS Hacks\n",
    "\n",
    "See the [setup post](https://firestorm0986.github.io/SLAAT/posts/sqlite-aws/)\n",
    "\n",
    "- Create your own database in the EC2 I have created (ec2-database-connect)\n",
    "    - name it with your first and last name (example: aditya-nawandhar) (0.1)\n",
    "    - Create a table using the commands on the link provided. (0.1)\n",
    "    - using commands from the link provided make columns and rows with test data (can be anything) (example: “name” and “class” are the columns with rows being something like “Aditya” and “Junior”). At least 4 test rows (0.1)\n",
    "    - additional points if the data matches CPT (Bonus: 0.05)\n",
    "\n",
    "Total: 0.3"
   ]
  }
 ],
 "metadata": {
  "kernelspec": {
   "display_name": "base",
   "language": "python",
   "name": "python3"
  },
  "language_info": {
   "codemirror_mode": {
    "name": "ipython",
    "version": 3
   },
   "file_extension": ".py",
   "mimetype": "text/x-python",
   "name": "python",
   "nbconvert_exporter": "python",
   "pygments_lexer": "ipython3",
   "version": "3.9.12"
  },
  "orig_nbformat": 4
 },
 "nbformat": 4,
 "nbformat_minor": 2
}
