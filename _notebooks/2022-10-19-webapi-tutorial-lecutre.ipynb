{
 "cells": [
  {
   "cell_type": "markdown",
   "metadata": {},
   "source": [
    "# Web-API Tutorial Lecture Stuff\n",
    "> Web-API Example\n",
    "- toc: true\n",
    "- comments: true\n",
    "- branch: master\n",
    "- comments: true \n",
    "- badges: true\n",
    "- author: Haseeb Beg\n",
    "- categories: [fastpages, jupyter, Week 10]"
   ]
  },
  {
   "cell_type": "code",
   "execution_count": null,
   "metadata": {},
   "outputs": [],
   "source": [
    "// prepare HTML defined \"result\" container for new output\n",
    "const resultContainer = document.getElementById(\"result\");\n",
    "\n",
    "// keys for joke reactions\n",
    "const HAHA = \"haha\";\n",
    "const BOOHOO = \"boohoo\";\n",
    "\n",
    "// prepare fetch urls\n",
    "const url = \"https://flask.nighthawkcodingsociety.com/api/jokes\";\n",
    "const like_url = url + \"/like/\";  // haha reaction\n",
    "const jeer_url = url + \"/jeer/\";  // boohoo reaction\n",
    "\n",
    "// prepare fetch GET options\n",
    "const options = {\n",
    "  method: 'GET', // *GET, POST, PUT, DELETE, etc.\n",
    "  mode: 'cors', // no-cors, *cors, same-origin\n",
    "  cache: 'default', // *default, no-cache, reload, force-cache, only-if-cached\n",
    "  credentials: 'omit', // include, *same-origin, omit\n",
    "  headers: {\n",
    "    'Content-Type': 'application/json'\n",
    "    // 'Content-Type': 'application/x-www-form-urlencoded',\n",
    "  },\n",
    "};\n",
    "\n",
    "// prepare fetch PUT options, clones with JS Spread Operator (...)\n",
    "const put_options = {...options, method: 'PUT'}; // clones and replaces method"
   ]
  }
 ],
 "metadata": {
  "kernelspec": {
   "display_name": "JavaScript (Node.js)",
   "language": "javascript",
   "name": "javascript"
  },
  "language_info": {
   "name": "javascript",
   "version": "2.7.18"
  },
  "orig_nbformat": 4,
  "vscode": {
   "interpreter": {
    "hash": "e55666fbbf217aa3df372b978577f47b6009e2f78e2ec76a584f49cd54a1e62c"
   }
  }
 },
 "nbformat": 4,
 "nbformat_minor": 2
}
