{
 "cells": [
  {
   "attachments": {},
   "cell_type": "markdown",
   "metadata": {},
   "source": [
    "# Sorting Algorithms\n",
    "> Working with Data Structures and manipulating data.\n",
    "\n",
    "- toc: true\n",
    "- categories: []\n",
    "- type: pbl\n",
    "- week: 34"
   ]
  },
  {
   "attachments": {},
   "cell_type": "markdown",
   "metadata": {},
   "source": [
    "[wget link](https://raw.githubusercontent.com/nighthawkcoders/APCSP/master/_notebooks/2023-05-15-DS-sorting.ipynb)"
   ]
  },
  {
   "cell_type": "code",
   "execution_count": 3,
   "metadata": {},
   "outputs": [
    {
     "name": "stdout",
     "output_type": "stream",
     "text": [
      "Random List\n",
      "[9, 62, 78, 54, 18, 74, 58, 84, 20, 46]\n"
     ]
    }
   ],
   "source": [
    "import random\n",
    "\n",
    "numbers = []\n",
    "for i in range(10):\n",
    "    numbers.append(random.randint(0,100))\n",
    "print(\"Random List\")\n",
    "print(numbers)"
   ]
  },
  {
   "attachments": {},
   "cell_type": "markdown",
   "metadata": {},
   "source": [
    "# Warm Up\n",
    "\n",
    "> Discuss with a partner... \n",
    "What are some strategies you would use to sort this list? (Don't worry about writing code for now)\n",
    "- bubble sort\n",
    "- selection sort"
   ]
  },
  {
   "attachments": {},
   "cell_type": "markdown",
   "metadata": {},
   "source": [
    "# Explore\n",
    "\n",
    "Get into groups of 3\n",
    "\n",
    "We will be focusing on 4 algorithms today.\n",
    "\n",
    "We will look at the first one together, Bubble Sort\n",
    "\n",
    "![](images/bubble-sort.png)\n",
    "\n",
    "What is happening with this sort?\n",
    "\n",
    "In your groups you will each choose to be an expert on a sorting algorithm. Merge, Selection, and Insertion.\n",
    "Take about 5 minutes to read about your algorithm (Geek for Geeks linked below) and be ready to explain it to your other group members. \n",
    "\n",
    "[Merge](https://www.geeksforgeeks.org/merge-sort/#)\n",
    "\n",
    "[Selection](https://www.geeksforgeeks.org/selection-sort/)\n",
    "\n",
    "[Insertion](https://www.geeksforgeeks.org/insertion-sort/)"
   ]
  },
  {
   "attachments": {},
   "cell_type": "markdown",
   "metadata": {},
   "source": [
    "## Practice\n",
    "\n",
    "[75, 17, 46, 80, 67, 45, 69, 79, 40, 0]\n",
    "\n",
    "How would you sort this list with... \n",
    "- Bubble Sort\n",
    "- Selection Sort\n",
    "> Explain.\n",
    "1. Bubble Sort is a simple sorting algorithm that repeatedly steps through the list, compares adjacent elements, and swaps them if they are in the wrong order. The algorithm continues to iterate through the list until no more swaps are needed, indicating that the list is sorted. To sort the given list [75, 17, 46, 80, 67, 45, 69, 79, 40, 0] using Bubble Sort, we start by comparing the first two elements, swapping them if necessary. We continue this process until we reach the end of the list. \n",
    "\n",
    "2. Selection Sort is another simple sorting algorithm that divides the input list into two parts: the sorted part and the unsorted part. The algorithm repeatedly finds the minimum element from the unsorted part and swaps it with the first element of the unsorted part, thus expanding the sorted part by one element. To sort the given list [75, 17, 46, 80, 67, 45, 69, 79, 40, 0] using Selection Sort, we start by finding the minimum element in the entire list and swap it with the first element. Then, we find the minimum element in the remaining unsorted part and swap it with the second element. \n",
    "\n",
    "\n",
    "[88, 39, 53, 39, 58, 43, 74, 81, 71, 51]\n",
    "\n",
    "How would you sort this list with... \n",
    "- Merge Sort\n",
    "- Insertion Sort\n",
    "\n",
    "1. Merge Sort is a divide-and-conquer algorithm that sorts a list by recursively dividing it into smaller sublists, sorting them, and then merging them back together. To sort the given list [88, 39, 53, 39, 58, 43, 74, 81, 71, 51] using Merge Sort, we would first split the list into two halves, then recursively apply Merge Sort on each half. This process continues until we reach the base case of having single-element sublists. Then, we merge the sublists back together by comparing and inserting the elements in the correct order. The merging step combines the sorted sublists to produce a sorted final list. \n",
    "\n",
    "2. Insertion Sort is a simple comparison-based sorting algorithm that works by dividing the list into a sorted and an unsorted part. Initially, the sorted part contains only the first element of the list, and the unsorted part contains the rest. The algorithm then iterates through the unsorted part, taking one element at a time and inserting it into the correct position in the sorted part. To sort the given list [88, 39, 53, 39, 58, 43, 74, 81, 71, 51] using Insertion Sort, we would start with the second element (39) and compare it with the elements in the sorted part. If an element in the sorted part is greater than the current element, we shift it to the right. This process continues until we find the correct position for the current element, and we insert it there.\n",
    "> Explain.\n"
   ]
  },
  {
   "attachments": {},
   "cell_type": "markdown",
   "metadata": {},
   "source": [
    "### Bubble and Selection sort for: [75, 17, 46, 80, 67, 45, 69, 79, 40, 0]\n"
   ]
  },
  {
   "cell_type": "code",
   "execution_count": 4,
   "metadata": {},
   "outputs": [
    {
     "name": "stdout",
     "output_type": "stream",
     "text": [
      "Sorted array: [0, 17, 40, 45, 46, 67, 69, 75, 79, 80]\n"
     ]
    }
   ],
   "source": [
    "def bubble_sort(arr):\n",
    "    n = len(arr)\n",
    "    for i in range(n):\n",
    "        for j in range(n-i-1):\n",
    "            if arr[j] > arr[j+1]:\n",
    "                arr[j], arr[j+1] = arr[j+1], arr[j]\n",
    "\n",
    "# Testing the implementation\n",
    "arr = [75, 17, 46, 80, 67, 45, 69, 79, 40, 0]\n",
    "bubble_sort(arr)\n",
    "print(\"Sorted array:\", arr)\n"
   ]
  },
  {
   "cell_type": "code",
   "execution_count": 3,
   "metadata": {},
   "outputs": [
    {
     "name": "stdout",
     "output_type": "stream",
     "text": [
      "Sorted array\n",
      "0 , 17 , 40 , 45 , 46 , 67 , 69 , 75 , 79 , 80 , "
     ]
    }
   ],
   "source": [
    "# Python program for implementation of Selection\n",
    "# Sort\n",
    "import sys\n",
    "A = [75, 17, 46, 80, 67, 45, 69, 79, 40, 0]\n",
    "\n",
    "# Traverse through all array elements\n",
    "for i in range(len(A)):\n",
    "\t\n",
    "\t# Find the minimum element in remaining\n",
    "\t# unsorted array\n",
    "\tmin_idx = i\n",
    "\tfor j in range(i+1, len(A)):\n",
    "\t\tif A[min_idx] > A[j]:\n",
    "\t\t\tmin_idx = j\n",
    "\t\t\t\n",
    "\t# Swap the found minimum element with\n",
    "\t# the first element\t\n",
    "\tA[i], A[min_idx] = A[min_idx], A[i]\n",
    "\n",
    "# Driver code to test above\n",
    "print (\"Sorted array\")\n",
    "for i in range(len(A)):\n",
    "\tprint(\"%d\" %A[i],end=\" , \")\n",
    "\n"
   ]
  },
  {
   "attachments": {},
   "cell_type": "markdown",
   "metadata": {},
   "source": [
    "### Merge and Insertion sort for: [88, 39, 53, 39, 58, 43, 74, 81, 71, 51]\n"
   ]
  },
  {
   "cell_type": "code",
   "execution_count": 2,
   "metadata": {},
   "outputs": [
    {
     "name": "stdout",
     "output_type": "stream",
     "text": [
      "Given array is\n",
      "88 39 53 39 58 43 74 81 71 51 \n",
      "Sorted array is: \n",
      "39 39 43 51 53 58 71 74 81 88 \n"
     ]
    }
   ],
   "source": [
    "# Python program for implementation of MergeSort\n",
    "def mergeSort(arr):\n",
    "\tif len(arr) > 1:\n",
    "\n",
    "\t\t# Finding the mid of the array\n",
    "\t\tmid = len(arr)//2\n",
    "\n",
    "\t\t# Dividing the array elements\n",
    "\t\tL = arr[:mid]\n",
    "\n",
    "\t\t# into 2 halves\n",
    "\t\tR = arr[mid:]\n",
    "\n",
    "\t\t# Sorting the first half\n",
    "\t\tmergeSort(L)\n",
    "\n",
    "\t\t# Sorting the second half\n",
    "\t\tmergeSort(R)\n",
    "\n",
    "\t\ti = j = k = 0\n",
    "\n",
    "\t\t# Copy data to temp arrays L[] and R[]\n",
    "\t\twhile i < len(L) and j < len(R):\n",
    "\t\t\tif L[i] <= R[j]:\n",
    "\t\t\t\tarr[k] = L[i]\n",
    "\t\t\t\ti += 1\n",
    "\t\t\telse:\n",
    "\t\t\t\tarr[k] = R[j]\n",
    "\t\t\t\tj += 1\n",
    "\t\t\tk += 1\n",
    "\n",
    "\t\t# Checking if any element was left\n",
    "\t\twhile i < len(L):\n",
    "\t\t\tarr[k] = L[i]\n",
    "\t\t\ti += 1\n",
    "\t\t\tk += 1\n",
    "\n",
    "\t\twhile j < len(R):\n",
    "\t\t\tarr[k] = R[j]\n",
    "\t\t\tj += 1\n",
    "\t\t\tk += 1\n",
    "\n",
    "# Code to print the list\n",
    "\n",
    "\n",
    "def printList(arr):\n",
    "\tfor i in range(len(arr)):\n",
    "\t\tprint(arr[i], end=\" \")\n",
    "\tprint()\n",
    "\n",
    "\n",
    "# Driver Code\n",
    "if __name__ == '__main__':\n",
    "\tarr = [88, 39, 53, 39, 58, 43, 74, 81, 71, 51]\n",
    "\tprint(\"Given array is\", end=\"\\n\")\n",
    "\tprintList(arr)\n",
    "\tmergeSort(arr)\n",
    "\tprint(\"Sorted array is: \", end=\"\\n\")\n",
    "\tprintList(arr)\n",
    "\n",
    "# This code is contributed by Mayank Khanna\n",
    "\n"
   ]
  },
  {
   "cell_type": "code",
   "execution_count": 5,
   "metadata": {},
   "outputs": [
    {
     "name": "stdout",
     "output_type": "stream",
     "text": [
      "39 39 43 51 53 58 71 74 81 88 \n"
     ]
    }
   ],
   "source": [
    "from typing import List\n",
    "\n",
    "def recursiveInsertionSort(arr: List[int], n: int) -> None:\n",
    "\t# Base case: if the array has only one element, it is already sorted\n",
    "\tif n <= 1:\n",
    "\t\treturn\n",
    "\n",
    "\t# Sort the first n-1 elements of the array recursively\n",
    "\trecursiveInsertionSort(arr, n - 1)\n",
    "\n",
    "\t# Insert the nth element into its correct position in the sorted subarray\n",
    "\tlast = arr[n - 1]\n",
    "\tj = n - 2\n",
    "\n",
    "\t# Shift elements to the right to make space for the nth element\n",
    "\twhile j >= 0 and arr[j] > last:\n",
    "\t\tarr[j + 1] = arr[j]\n",
    "\t\tj -= 1\n",
    "\n",
    "\t# Place the nth element in its correct position\n",
    "\tarr[j + 1] = last\n",
    "\n",
    "def printArray(arr: List[int], n: int) -> None:\n",
    "\tfor i in range(n):\n",
    "\t\tprint(arr[i], end=\" \")\n",
    "\tprint()\n",
    "\n",
    "arr = [88, 39, 53, 39, 58, 43, 74, 81, 71, 51]\n",
    "n = len(arr)\n",
    "\n",
    "recursiveInsertionSort(arr, n)\n",
    "printArray(arr, n)\n"
   ]
  },
  {
   "attachments": {},
   "cell_type": "markdown",
   "metadata": {},
   "source": [
    "# Sorting Words\n",
    "> Sorting strings works in the same way as integers. Using your expertise algorithm, sort the following list of random words."
   ]
  },
  {
   "cell_type": "code",
   "execution_count": 1,
   "metadata": {},
   "outputs": [
    {
     "name": "stderr",
     "output_type": "stream",
     "text": [
      "[nltk_data] Downloading package words to /home/syeung/nltk_data...\n"
     ]
    },
    {
     "name": "stdout",
     "output_type": "stream",
     "text": [
      "Random List\n",
      "['taqua', 'radknight', 'gonococcal', 'unreproducible', 'blastogranitic', 'polyoecism', 'ulrichite', 'geosyncline', 'entomologist', 'kilnrib']\n"
     ]
    },
    {
     "name": "stderr",
     "output_type": "stream",
     "text": [
      "[nltk_data]   Unzipping corpora/words.zip.\n"
     ]
    }
   ],
   "source": [
    "import nltk\n",
    "import random\n",
    "\n",
    "nltk.download('words')  # Download the word list (only required once)\n",
    "\n",
    "from nltk.corpus import words\n",
    "\n",
    "english_words = words.words()\n",
    "#print(len(english_words))  # Prints the number of words in the list\n",
    "\n",
    "# You can now use the 'english_words' list in your code\n",
    "\n",
    "words = []\n",
    "for i in range(10):\n",
    "    words.append(english_words[random.randint(0,len(english_words))])\n",
    "print(\"Random List\")\n",
    "print(words)"
   ]
  },
  {
   "attachments": {},
   "cell_type": "markdown",
   "metadata": {},
   "source": [
    "## Discuss \n",
    "Answer the following with your group.\n",
    "\n",
    "- When should you use each algorithm? What makes an algorithm the right choice?\n",
    "- Given the following lists...\n",
    "    - [0, 2, 6, 4, 8, 10]\n",
    "    - [Elephant, Banana, Cat, Dog, Apple]\n",
    "    - [29, 13, 83, 47, 32, 78, 100, 60, 65, 15, 24, 9, 40, 68, 53, 8, 90, 58, 39, 32, 34, 91, 74, 94, 49, 87, 34, 87, 23, 17, 27, 2, 38, 58, 84, 15, 9, 46, 74, 40, 44, 8, 55, 28, 81, 92, 81, 88, 53, 38, 19, 21, 9, 54, 21, 67, 3, 41, 3, 74, 13, 71, 70, 45, 5, 36, 80, 64, 97, 86, 73, 74, 94, 79, 49, 32, 20, 68, 64, 69, 1, 77, 31, 56, 100, 80, 48, 75, 85, 93, 67, 57, 26, 56, 43, 53, 59, 28, 67, 50]\n",
    "Select the algorithm you believe is best for each, explain.\n",
    "\n",
    "1. [0, 2, 6, 4, 8, 10]: This list is already small and nearly sorted. Insertion Sort would be a suitable choice as it performs well on nearly sorted lists and has a simple implementation.\n",
    "\n",
    "2. [Elephant, Banana, Cat, Dog, Apple]: This is a list of strings. Merge Sort would be the better choice as it can handle non-numeric data types and provide stable sorting, preserving the relative order of equal elements.\n",
    "\n",
    "3. [29, 13, 83, 47, 32, 78, ...]: This is a larger list with random numeric values. Merge Sort would be the optimal choice here due to its efficient performance on large lists and the guarantee of O(n log n) time complexity. It can handle the variety of values and provide a sorted result."
   ]
  },
  {
   "attachments": {},
   "cell_type": "markdown",
   "metadata": {},
   "source": [
    "## HACKS\n",
    "> Provided below is a Bubble Sort Algorithm sorting a list of dictionaries based off of selected key.\n",
    "\n",
    "- Now it's time to do some coding...\n",
    "\n",
    "- Run code and then research and answer these questions...\n",
    "    - Is a list and/or dictionary in python considered a primitive or collection type?  Why?\n",
    "     <mark>A list and dictionary in Python are considered collection types rather than primitive types. This is because they can contain multiple values or items, allowing for more complex data structures and operations.<mark>\n",
    "\n",
    "    - Is the list passed into bubble sort \"pass-by-value\" or \"pass-by-reference? Describe why in relation to output.\n",
    "    <mark>A The list passed into bubble sort in Python is \"pass-by-reference\". This means that the original list is modified during the sorting process, and the changes are reflected in the original list after the sorting algorithm executes. Bubble sort directly modifies the elements in the list by swapping them in place, rather than creating a new copy of the list. As a result, the output of the bubble sort will be reflected in the original list itself. <mark>\n",
    "\n",
    "\n",
    "\n",
    "\n",
    "\n",
    "\n",
    "- Implement new cell(s) and/or organize cells to do the following.\n",
    "    - Create your own list\n",
    "    - Use your expertise sorting algorithm (selection, insertion, merge). Note, I got my bubble sort from Geek for Geeks and made modifications. Each student in a group should have a unique algorithm.\n",
    "    - Test your list with my bubble sort\n",
    "    - Test my list with your new sort\n",
    "    - Research analysis on sorting: comparisons, swaps, time.  Build this into your hacks.\n",
    "    - Find a better way to print the data, key first, then other elements in viewable form.\n",
    "\n",
    "Use the code below to help guide your adventure"
   ]
  },
  {
   "cell_type": "code",
   "execution_count": 1,
   "metadata": {},
   "outputs": [
    {
     "name": "stdout",
     "output_type": "stream",
     "text": [
      "Original\n",
      "[{'name': 'Guardians of the Galaxy Vol. 3', 'rating': 87}, {'name': 'Iron Man 2', 'rating': 85}, {'name': 'Avengers: Infinity War', 'rating': 95}, {'name': 'Everything, Everywhere, All at Once', 'rating': 98}, {'name': 'Winnie The Pooh: Blood and Honey', 'rating': 12}, {'name': 'The X-Men', 'rating': 81}, {'name': 'The Children of the Corn', 'rating': 15}]\n",
      "name\n",
      "[{'name': 'Avengers: Infinity War', 'rating': 95}, {'name': 'Everything, Everywhere, All at Once', 'rating': 98}, {'name': 'Guardians of the Galaxy Vol. 3', 'rating': 87}, {'name': 'Iron Man 2', 'rating': 85}, {'name': 'The Children of the Corn', 'rating': 15}, {'name': 'The X-Men', 'rating': 81}, {'name': 'Winnie The Pooh: Blood and Honey', 'rating': 12}]\n",
      "rating\n",
      "[{'name': 'Winnie The Pooh: Blood and Honey', 'rating': 12}, {'name': 'The Children of the Corn', 'rating': 15}, {'name': 'The X-Men', 'rating': 81}, {'name': 'Iron Man 2', 'rating': 85}, {'name': 'Guardians of the Galaxy Vol. 3', 'rating': 87}, {'name': 'Avengers: Infinity War', 'rating': 95}, {'name': 'Everything, Everywhere, All at Once', 'rating': 98}]\n",
      "Sorted array\n",
      "%d {'name': 'Winnie The Pooh: Blood and Honey', 'rating': 12} , %d {'name': 'The Children of the Corn', 'rating': 15} , %d {'name': 'The X-Men', 'rating': 81} , %d {'name': 'Iron Man 2', 'rating': 85} , %d {'name': 'Guardians of the Galaxy Vol. 3', 'rating': 87} , %d {'name': 'Avengers: Infinity War', 'rating': 95} , %d {'name': 'Everything, Everywhere, All at Once', 'rating': 98} , "
     ]
    }
   ],
   "source": [
    "\"\"\"\n",
    "* Creator: Nighthawk Coding Society\n",
    "Bubble Sort of a List with optimizations\n",
    "\"\"\"\n",
    "\n",
    "# bubble sorts a list of dictionaries, base off of provided key\n",
    "def bubbleSort(list, key):\n",
    "    n = len(list) - 1  # list are indexed 0 to n-1, len is n\n",
    "    \n",
    "    # Traverse through list with i index\n",
    "    for i in range(n):\n",
    "        swapped = False  # optimize code, so it exits if now swaps on inner loop\n",
    "\n",
    "        # Inner traversal using j index\n",
    "        for j in range(n-i):  # n-i as positions on right are in order in bubble\n",
    " \n",
    "            # Swap if the element KeyN is greater KeyN1\n",
    "            keyN = list[j].get(key)\n",
    "            keyN1 = list[j+1].get(key)\n",
    "            if keyN > keyN1:\n",
    "                swapped = True\n",
    "                list[j], list[j + 1] = list[j + 1], list[j]  # single line swap\n",
    "         \n",
    "        if not swapped:  # if no swaps on inner pass, list is sorted\n",
    "            return  # exit function\n",
    "    \n",
    "def selectionSort(list):\n",
    "    for i in range(len(list)):\n",
    "        # Find the minimum element in remaining\n",
    "        # unsorted array\n",
    "        min_idx = i\n",
    "    for j in range(i+1, len(list)):\n",
    "        if A[min_idx] > list[j]:\n",
    "            min_idx = j\n",
    "             \n",
    "    # Swap the found minimum element with\n",
    "    # the first element       \n",
    "    list[i], list[min_idx] = list[min_idx], list[i]\n",
    " \n",
    "# Driver code to test above\n",
    "\n",
    "if __name__ == \"__main__\":\n",
    "    # list/dictionary sample\n",
    "    movies = [\n",
    "    {\"name\": \"Guardians of the Galaxy Vol. 3\", \"rating\": 87},\n",
    "    {\"name\": \"Iron Man 2\", \"rating\": 85},\n",
    "    {\"name\": \"Avengers: Infinity War\", \"rating\": 95},\n",
    "    {\"name\": \"Everything, Everywhere, All at Once\", \"rating\": 98},\n",
    "    {\"name\": \"Winnie The Pooh: Blood and Honey\", \"rating\": 12},\n",
    "    {\"name\": \"The X-Men\", \"rating\": 81},\n",
    "    {\"name\": \"The Children of the Corn\", \"rating\": 15}\n",
    "    ]\n",
    "    \n",
    "    # assuming uniform keys, pick 1st row as source of keys\n",
    "    key_row = movies[0]\n",
    "\n",
    "    # print list as defined\n",
    "    print(\"Original\")\n",
    "    print(movies)\n",
    "    \n",
    "    for key in key_row:  # finds each key in the row\n",
    "        print(key)\n",
    "        bubbleSort(movies, key)  # sort list of people\n",
    "        print(movies)\n",
    "        \n",
    "print (\"Sorted array\")\n",
    "for i in range(len(movies)):\n",
    "    print(\"%d\", movies[i],end=\" , \")"
   ]
  }
 ],
 "metadata": {
  "kernelspec": {
   "display_name": "base",
   "language": "python",
   "name": "python3"
  },
  "language_info": {
   "codemirror_mode": {
    "name": "ipython",
    "version": 3
   },
   "file_extension": ".py",
   "mimetype": "text/x-python",
   "name": "python",
   "nbconvert_exporter": "python",
   "pygments_lexer": "ipython3",
   "version": "3.9.12"
  },
  "orig_nbformat": 4
 },
 "nbformat": 4,
 "nbformat_minor": 2
}
