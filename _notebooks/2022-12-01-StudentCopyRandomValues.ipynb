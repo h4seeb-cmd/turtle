{
 "cells": [
  {
   "attachments": {},
   "cell_type": "markdown",
   "metadata": {},
   "source": [
    "# Unit 3.15 Random Values Student Copy\n",
    "> Here is our lesson about random values!\n",
    "\n",
    "- toc: true\n",
    "- comments: true\n",
    "- categories: [Week-13,Big-Idea-3]\n",
    "- image: /images/college-board-logo.png"
   ]
  },
  {
   "attachments": {},
   "cell_type": "markdown",
   "metadata": {},
   "source": [
    "Purpose/Objectives: Teach student how to implement randomness into their code to make their code simulate real life situations. \n",
    "\n",
    "In this lesson students will learn:\n",
    "- How to import random to python\n",
    "- How to use random with a list or number range \n",
    "- How to code randomness in everyday scenarios"
   ]
  },
  {
   "attachments": {},
   "cell_type": "markdown",
   "metadata": {},
   "source": [
    "ADD YOUR ADDITIONAL NOTES HERE:\n",
    "- Lists make it so every number has an equal chance of being picked if chosen at random.\n",
    "- Some topics that use luck are rolling dice, cryptography, etc."
   ]
  },
  {
   "attachments": {},
   "cell_type": "markdown",
   "metadata": {},
   "source": [
    "## What are Random Values?"
   ]
  },
  {
   "attachments": {},
   "cell_type": "markdown",
   "metadata": {},
   "source": [
    "Random Values are a number generated using a large set of numbers and a mathematical algorithm which gives equal probability to all number occuring"
   ]
  },
  {
   "attachments": {},
   "cell_type": "markdown",
   "metadata": {},
   "source": [
    "Each Result from randomization is equally likely to occur\n",
    "Using random number generation in a program means each execution may produce a different result"
   ]
  },
  {
   "attachments": {},
   "cell_type": "markdown",
   "metadata": {},
   "source": [
    "What are Examples of Random outputs in the world?  Add a few you can think of. \n",
    "- Ex: Marbles\n",
    "- Cryptography\n",
    "- Dice\n",
    "- Statistics\n",
    "- The Lottery"
   ]
  },
  {
   "attachments": {},
   "cell_type": "markdown",
   "metadata": {},
   "source": [
    "## Why do we need Random Values for code?\n",
    "We need random values for code because when we want to run things like simulations, we need to be able to simulate the randomness of the real world. Furthurmore, it's good for testing and debugging code."
   ]
  },
  {
   "attachments": {},
   "cell_type": "markdown",
   "metadata": {},
   "source": [
    "Random values can be used in coding:\n",
    "- "
   ]
  },
  {
   "cell_type": "code",
   "execution_count": 17,
   "metadata": {},
   "outputs": [
    {
     "name": "stdout",
     "output_type": "stream",
     "text": [
      "92\n"
     ]
    }
   ],
   "source": [
    "import random\n",
    "random_number = random.randint(1,100)\n",
    "print(random_number)"
   ]
  },
  {
   "cell_type": "code",
   "execution_count": 2,
   "metadata": {},
   "outputs": [
    {
     "name": "stdout",
     "output_type": "stream",
     "text": [
      "blueberry\n"
     ]
    }
   ],
   "source": [
    "import random\n",
    "\n",
    "def randomlist():\n",
    "    list = [\"apple\", \"banana\", \"cherry\", \"blueberry\"]\n",
    "    element = random.choice(list)\n",
    "    print(element)\n",
    "randomlist()"
   ]
  },
  {
   "attachments": {},
   "cell_type": "markdown",
   "metadata": {},
   "source": [
    "Real Life Examples:\n",
    "Dice Roll"
   ]
  },
  {
   "cell_type": "code",
   "execution_count": 1,
   "metadata": {},
   "outputs": [
    {
     "name": "stdout",
     "output_type": "stream",
     "text": [
      "Roll 1:6\n",
      "Roll 2:4\n",
      "Roll 3:4\n"
     ]
    }
   ],
   "source": [
    "import random\n",
    "for i in range(3):\n",
    "    roll = random.randint(1,6)\n",
    "    print(\"Roll \" + str(i + 1) + \":\" + str(roll))"
   ]
  },
  {
   "attachments": {},
   "cell_type": "markdown",
   "metadata": {},
   "source": [
    "## Challenge #1\n",
    "Write a function that will a simulate a coinflip and print the output"
   ]
  },
  {
   "cell_type": "code",
   "execution_count": 22,
   "metadata": {},
   "outputs": [
    {
     "name": "stdout",
     "output_type": "stream",
     "text": [
      "heads\n"
     ]
    }
   ],
   "source": [
    "from random import randint as r\n",
    "\n",
    "def coinflip():\n",
    "    roll = r(1,2)\n",
    "    if roll == 1:\n",
    "        return \"heads\"\n",
    "    else:\n",
    "        return \"tails\"\n",
    "print(coinflip())"
   ]
  },
  {
   "attachments": {},
   "cell_type": "markdown",
   "metadata": {},
   "source": [
    "EXTRA: Create a function that will randomly select 5 playing Cards and check if the 5 cards are a Royal Flush"
   ]
  },
  {
   "attachments": {},
   "cell_type": "markdown",
   "metadata": {},
   "source": [
    "## Homework\n",
    "Given a random decimal number convert it into binary\n",
    "as Extra convert it to hexidecimal as well. "
   ]
  },
  {
   "cell_type": "code",
   "execution_count": 16,
   "metadata": {},
   "outputs": [
    {
     "name": "stdout",
     "output_type": "stream",
     "text": [
      "Original number: 165\n",
      "\n",
      "Binary: 0b10100101\n",
      "\n",
      "Equivalent Hexadecimal Value = A5"
     ]
    }
   ],
   "source": [
    "import random as r \n",
    "\n",
    "x = r.randint(0, 255)\n",
    "\n",
    "def decToBin(N):\n",
    "    return bin(N)\n",
    "\n",
    "def decToHex(N):\n",
    "    i = 0\n",
    "    hexDec = []\n",
    "    while N!=0:\n",
    "        rm = N % 16\n",
    "        if rm<10:\n",
    "            rm = rm+48\n",
    "        else:\n",
    "            rm = rm+55\n",
    "        hexDec.insert(i, chr(rm))\n",
    "        i = i+1\n",
    "        N = int(N / 16)\n",
    "    print(\"\\nEquivalent Hexadecimal Value = \", end=\"\")\n",
    "    i = i-1\n",
    "    while i>=0:\n",
    "        print(end=hexDec[i])\n",
    "        i = i-1\n",
    "\n",
    "print(\"Original number: \" + str(x))\n",
    "print(\"\\nBinary: \" + str(decToBin(x)))\n",
    "decToHex(x)"
   ]
  }
 ],
 "metadata": {
  "kernelspec": {
   "display_name": "Python 3.9.12 ('base')",
   "language": "python",
   "name": "python3"
  },
  "language_info": {
   "codemirror_mode": {
    "name": "ipython",
    "version": 3
   },
   "file_extension": ".py",
   "mimetype": "text/x-python",
   "name": "python",
   "nbconvert_exporter": "python",
   "pygments_lexer": "ipython3",
   "version": "3.9.12"
  },
  "orig_nbformat": 4,
  "vscode": {
   "interpreter": {
    "hash": "5e6e94ee7eb6faa549b0272dc29cdf01ee84757b8521322f0009accfa480a59f"
   }
  }
 },
 "nbformat": 4,
 "nbformat_minor": 2
}
