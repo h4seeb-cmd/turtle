{
 "cells": [
  {
   "attachments": {},
   "cell_type": "markdown",
   "metadata": {},
   "source": [
    "# Unit 3 Lesson 16, Student Copy\n",
    "- toc: true\n",
    "- comments: true\n"
   ]
  },
  {
   "attachments": {},
   "cell_type": "markdown",
   "metadata": {},
   "source": [
    "### Hack #1 - Class Notes\n",
    "- We run simulations in order to test estimated results in real life scenarios\n",
    "- Simulations help greatly with accounting for variables that would happen in real life scenarios\n",
    "- Numerous real life examples can be simulated\n",
    "- The random module/library is great for simulations, as it helps with the recreation of real life variables.\n"
   ]
  },
  {
   "attachments": {},
   "cell_type": "markdown",
   "metadata": {},
   "source": [
    "### Hack #2 - Functions Classwork"
   ]
  },
  {
   "cell_type": "code",
   "execution_count": 34,
   "metadata": {},
   "outputs": [
    {
     "name": "stdout",
     "output_type": "stream",
     "text": [
      "336\n"
     ]
    }
   ],
   "source": [
    "from random import *\n",
    "userLow = int(input(\"What's the lowest number you would want to print?\")) # inputted 1\n",
    "userHigh = int(input(\"What's the highest number you would want to print?\")) # inputted 403\n",
    "print(randint(userLow, userHigh))"
   ]
  },
  {
   "cell_type": "code",
   "execution_count": 25,
   "metadata": {},
   "outputs": [
    {
     "name": "stdout",
     "output_type": "stream",
     "text": [
      "['red shoes', 'tie', 'belt']\n"
     ]
    }
   ],
   "source": [
    "closet = [\"red shoes\", \"green pants\", \"tie\", \"belt\"]\n",
    "\n",
    "def trash():\n",
    "    closet.pop(randint(0,4))\n",
    "    print(closet)\n",
    "trash()"
   ]
  },
  {
   "cell_type": "code",
   "execution_count": 16,
   "metadata": {},
   "outputs": [
    {
     "name": "stdout",
     "output_type": "stream",
     "text": [
      "Heads\n",
      "Heads\n",
      "Heads\n",
      "Tails\n",
      "Tails\n"
     ]
    }
   ],
   "source": [
    "# insert your work with randomization/ functions and the mycloset code here # Hint: Use the functions we talked about in the beginning!\n",
    "import random\n",
    "\n",
    "\n",
    "def coinflip():         #def function \n",
    "    randomflip = random.randint(1, 3) #picks either 1, 2, or 3 randomly (33.3% chance of either) \n",
    "    if randomflip >= 2: #assigning 2 and 3 to be heads--> if either are chosen then it will print, \"Heads\"\n",
    "        print(\"Heads\")\n",
    "    else:\n",
    "        if randomflip == 1: #assigning 1 to be tails--> if 1 is chosen then it will print, \"Tails\"\n",
    "            print(\"Tails\")\n",
    "\n",
    "#Tossing the coin 5 times:\n",
    "t1 = coinflip()\n",
    "t2 = coinflip()\n",
    "t3 = coinflip()\n",
    "t4 = coinflip()\n",
    "t5 = coinflip()"
   ]
  },
  {
   "cell_type": "markdown",
   "metadata": {},
   "source": [
    "### Hack #3 - Binary Simulation Problem"
   ]
  },
  {
   "cell_type": "code",
   "execution_count": 68,
   "metadata": {},
   "outputs": [
    {
     "name": "stdout",
     "output_type": "stream",
     "text": [
      "The following people survived the apocalypse: \n",
      "     - Shruthi\n",
      "     - Alex\n",
      "     - Mr. Yeung\n"
     ]
    }
   ],
   "source": [
    "from random import randint\n",
    "\n",
    "def randomnum(): # function for generating random int\n",
    "    return randint(0,255)\n",
    "\n",
    "def converttobin(dec): # function for converting decimal to binary\n",
    "    N = dec\n",
    "    i = 7\n",
    "    binary = []\n",
    "    while i >= 0:\n",
    "        if (N - 2 ** i) >= 0:\n",
    "            binary.append(1)\n",
    "            N-=2 ** i\n",
    "            i-=1\n",
    "        else:\n",
    "            binary.append(0)\n",
    "            i-=1\n",
    "    return binary\n",
    "\n",
    "\n",
    "def survivors(): # function to assign position\n",
    "    survivorstatus = [\"Jiya\", \"Shruthi\", \"Noor\", \"Ananya\" , \"Alex\", \"Nathan\", \"Haseeb\", \"Mr. Yeung\"]\n",
    "    chances = converttobin(randomnum())\n",
    "    return [survivorstatus[i] for i in range(8) if chances[i] == 1]\n",
    "\n",
    "def printsurvivors(survivor_list):\n",
    "    print(\"The following people survived the apocalypse: \")\n",
    "    for i in survivor_list:\n",
    "        print(\"     -\", i)\n",
    "\n",
    "    # replace the names above with your choice of people in the house\n",
    "\n",
    "survivor_list = survivors()\n",
    "printsurvivors(survivor_list)"
   ]
  },
  {
   "cell_type": "code",
   "execution_count": 65,
   "metadata": {},
   "outputs": [
    {
     "name": "stdout",
     "output_type": "stream",
     "text": [
      "<class 'str'>\n"
     ]
    }
   ],
   "source": [
    "from random import *\n",
    "def rand():\n",
    "    x = randint(0,255)\n",
    "    return bin(x)\n",
    "\n",
    "def survive(N):\n",
    "    surivors = N\n",
    "    return N\n",
    "\n",
    "print(type(bin(4)))"
   ]
  },
  {
   "cell_type": "markdown",
   "metadata": {},
   "source": [
    "### Hack #4 - Thinking through a problem\n",
    "- create your own simulation involving a dice roll\n",
    "- should include randomization and a function for rolling + multiple trials"
   ]
  },
  {
   "cell_type": "code",
   "execution_count": 57,
   "metadata": {},
   "outputs": [
    {
     "name": "stdout",
     "output_type": "stream",
     "text": [
      "Trial 1\n",
      "Dice 1:4\n",
      "Dice 2:4\n",
      "DOUBLES!!\n",
      "Trial 2\n",
      "Dice 1:6\n",
      "Dice 2:2\n",
      "L\n",
      "Trial 3\n",
      "Dice 1:3\n",
      "Dice 2:3\n",
      "DOUBLES!!\n",
      "Trial 4\n",
      "Dice 1:5\n",
      "Dice 2:3\n",
      "L\n",
      "Trial 5\n",
      "Dice 1:5\n",
      "Dice 2:5\n",
      "DOUBLES!!\n",
      "Trial 6\n",
      "Dice 1:2\n",
      "Dice 2:4\n",
      "L\n",
      "Trial 7\n",
      "Dice 1:1\n",
      "Dice 2:2\n",
      "L\n",
      "Trial 8\n",
      "Dice 1:6\n",
      "Dice 2:2\n",
      "L\n",
      "Trial 9\n",
      "Dice 1:4\n",
      "Dice 2:1\n",
      "L\n",
      "Trial 10\n",
      "Dice 1:1\n",
      "Dice 2:2\n",
      "L\n"
     ]
    }
   ],
   "source": [
    "from random import randint as r\n",
    "\n",
    "def dice():\n",
    "    dice1 = r(1,6)\n",
    "    dice2 = r(1,6)\n",
    "    print(\"Dice 1:\" + str(dice1))\n",
    "    print(\"Dice 2:\" + str(dice2))\n",
    "    if dice1 == dice2:\n",
    "        print(\"DOUBLES!!\")\n",
    "        return\n",
    "    else:\n",
    "        print(\"L\")\n",
    "        \n",
    "def diceRolls():\n",
    "    totalRolls = 10\n",
    "    curRolls = 0\n",
    "    while curRolls < totalRolls:\n",
    "        print(\"Trial {0}\".format(curRolls+1))\n",
    "        dice()\n",
    "        curRolls = curRolls + 1\n",
    "\n",
    "diceRolls()"
   ]
  },
  {
   "attachments": {},
   "cell_type": "markdown",
   "metadata": {},
   "source": [
    "### Hack 5 - Applying your knowledge to situation based problems\n",
    "\n",
    "Using the questions bank below, create a quiz that presents the user a random question and calculates the user's score. You can use the template below or make your own. Making your own using a loop can give you extra points. "
   ]
  },
  {
   "attachments": {},
   "cell_type": "markdown",
   "metadata": {},
   "source": [
    "1. A researcher gathers data about the effect of Advanced Placement®︎ classes on students' success in college and career, and develops a simulation to show how a sequence of AP classes affect a hypothetical student's pathway.Several school administrators are concerned that the simulation contains bias favoring high-income students, however.\n",
    "    - answer options:\n",
    "        1. The simulation is an abstraction and therefore cannot contain any bias\n",
    "        2. The simulation may accidentally contain bias due to the exclusion of details.\n",
    "        3. If the simulation is found to contain bias, then it is not possible to remove the bias from the simulation.\n",
    "        4. The only way for the simulation to be biased is if the researcher intentionally used data that favored their desired output.\n",
    "2. Jack is trying to plan his financial future using an online tool. The tool starts off by asking him to input details about his current finances and career. It then lets him choose different future scenarios, such as having children. For each scenario chosen, the tool does some calculations and outputs his projected savings at the ages of 35, 45, and 55.Would that be considered a simulation and why?\n",
    "    - answer options\n",
    "        1. No, it's not a simulation because it does not include a visualization of the results.\n",
    "        2. No, it's not a simulation because it does not include all the details of his life history and the future financial environment.\n",
    "        3. Yes, it's a simulation because it runs on a computer and includes both user input and computed output.\n",
    "        4. Yes, it's a simulation because it is an abstraction of a real world scenario that enables the drawing of inferences.\n",
    "3. Sylvia is an industrial engineer working for a sporting goods company. She is developing a baseball bat that can hit balls with higher accuracy and asks their software engineering team to develop a simulation to verify the design.Which of the following details is most important to include in this simulation?\n",
    "    - answer options\n",
    "        1. Realistic sound effects based on the material of the baseball bat and the velocity of the hit\n",
    "        2. A depiction of an audience in the stands with lifelike behavior in response to hit accuracy\n",
    "        3. Accurate accounting for the effects of wind conditions on the movement of the ball\n",
    "        4. A baseball field that is textured to differentiate between the grass and the dirt\n",
    "4. Ashlynn is an industrial engineer who is trying to design a safer parachute. She creates a computer simulation of the parachute opening at different heights and in different environmental conditions.What are advantages of running the simulation versus an actual experiment?\n",
    "    - answer options\n",
    "        1. The simulation will not contain any bias that favors one body type over another, while an experiment will be biased.\n",
    "        2. The simulation can be run more safely than an actual experiment\n",
    "        3. The simulation will accurately predict the parachute's safety level, while an experiment may be inaccurate due to faulty experimental design.\n",
    "        4. The simulation can test the parachute design in a wide range of environmental conditions that may be difficult to reliably reproduce in an experiment.\n",
    "    * this question has 2 correct answers\n",
    "5. YOUR OWN QUESTION; can be situational, pseudo code based, or vocab/concept based\n",
    "6. YOUR OWN QUESTION; can be situational, pseudo code based, or vocab/concept based"
   ]
  },
  {
   "cell_type": "code",
   "execution_count": 66,
   "metadata": {},
   "outputs": [
    {
     "name": "stdout",
     "output_type": "stream",
     "text": [
      "A researcher gathers data about the effect of Advanced Placement®︎ classes on students' success in college and career, and develops a simulation to show how a sequence of AP classes affect a hypothetical student's pathway.Several school administrators are concerned that the simulation contains bias favoring high-income students, however.\n",
      "A) The simulation is an abstraction and therefore cannot contain any bias.\n",
      "B) The only way for the simulation to be biased is if the researcher intentionally used data that favored their desired output.\n",
      "C) If the simulation is found to contain bias, then it is not possible to remove the bias from the simulation.\n",
      "D) The simulation may accidentally contain bias due to the exclusion of details.\n",
      "Nice, you get a bronze medal!!\n",
      "Jack is trying to plan his financial future using an online tool. The tool starts off by asking him to input details about his current finances and career. It then lets him choose different future scenarios, such as having children. For each scenario chosen, the tool does some calculations and outputs his projected savings at the ages of 35, 45, and 55.Would that be considered a simulation and why?\n",
      "A) No, it's not a simulation because it does not include a visualization of the results.\n",
      "B) No, it's not a simulation because it does not include all the details of his life history and the future financial environment.\n",
      "C) Yes, it's a simulation because it runs on a computer and includes both user input and computed output.\n",
      "D) Yes, it's a simulation because it is an abstraction of a real world scenario that enables the drawing of inferences.\n",
      "Nice, you get a bronze medal!!\n",
      "Sylvia is an industrial engineer working for a sporting goods company. She is developing a baseball bat that can hit balls with higher accuracy and asks their software engineering team to develop a simulation to verify the design.Which of the following details is most important to include in this simulation?\n",
      "A) Realistic sound effects based on the material of the baseball bat and the velocity of the hit.\n",
      "B) A depiction of an audience in the stands with lifelike behavior in response to hit accuracy.\n",
      "C) Accurate accounting for the effects of wind conditions on the movement of the ball.\n",
      "D) A baseball field that is textured to differentiate between the grass and the dirt.\n",
      "Nice, you get a bronze medal!!\n",
      "Ashlynn is an industrial engineer who is trying to design a safer parachute. She creates a computer simulation of the parachute opening at different heights and in different environmental conditions. What are advantages of running the simulation versus an actual experiment?\n",
      "A) The simulation will not contain any bias that favors one body type over another, while an experiment will be biased.\n",
      "B) The simulation can be run more safely than an actual experiment.\n",
      "C) The simulation will accurately predict the parachute's safety level, while an experiment may be inaccurate due to faulty experimental design.\n",
      "D) The simulation can test the parachute design in a wide range of environmental conditions that may be difficult to reliably reproduce in an experiment.\n",
      "Nice, you get a bronze medal!!\n",
      "What module in python could be used to generate random values in simulation experiments?\n",
      "A) tensorflow\n",
      "B) randint\n",
      "C) turtle\n",
      "D) random\n",
      "Nice, you get a bronze medal!!\n",
      "True or false, simulations are terrible at emulating real world scenarios and variables\n",
      "A) True\n",
      "B) False\n",
      "C) What's a simulation?\n",
      "D) What scenarios?\n",
      "L bozo\n",
      "You got  5 / 6  questions right!\n"
     ]
    }
   ],
   "source": [
    "quiz = [\n",
    "    (\"A researcher gathers data about the effect of Advanced Placement®︎ classes on students' success in college and career, and develops a simulation to show how a sequence of AP classes affect a hypothetical student's pathway.Several school administrators are concerned that the simulation contains bias favoring high-income students, however.\",\n",
    "    \"A) The simulation is an abstraction and therefore cannot contain any bias.\", \n",
    "    \"B) The only way for the simulation to be biased is if the researcher intentionally used data that favored their desired output.\", \n",
    "    \"C) If the simulation is found to contain bias, then it is not possible to remove the bias from the simulation.\", \n",
    "    \"D) The simulation may accidentally contain bias due to the exclusion of details.\", \n",
    "    [\"B\"]),\n",
    "    (\"Jack is trying to plan his financial future using an online tool. The tool starts off by asking him to input details about his current finances and career. It then lets him choose different future scenarios, such as having children. For each scenario chosen, the tool does some calculations and outputs his projected savings at the ages of 35, 45, and 55.Would that be considered a simulation and why?\",\n",
    "    \"A) No, it's not a simulation because it does not include a visualization of the results.\", \n",
    "    \"B) No, it's not a simulation because it does not include all the details of his life history and the future financial environment.\", \n",
    "    \"C) Yes, it's a simulation because it runs on a computer and includes both user input and computed output.\", \n",
    "    \"D) Yes, it's a simulation because it is an abstraction of a real world scenario that enables the drawing of inferences.\",\n",
    "    [\"D\"]),\n",
    "    (\"Sylvia is an industrial engineer working for a sporting goods company. She is developing a baseball bat that can hit balls with higher accuracy and asks their software engineering team to develop a simulation to verify the design.Which of the following details is most important to include in this simulation?\",\n",
    "    \"A) Realistic sound effects based on the material of the baseball bat and the velocity of the hit.\", \n",
    "    \"B) A depiction of an audience in the stands with lifelike behavior in response to hit accuracy.\", \n",
    "    \"C) Accurate accounting for the effects of wind conditions on the movement of the ball.\",\n",
    "    \"D) A baseball field that is textured to differentiate between the grass and the dirt.\",\n",
    "    [\"C\"]),\n",
    "    (\"Ashlynn is an industrial engineer who is trying to design a safer parachute. She creates a computer simulation of the parachute opening at different heights and in different environmental conditions. What are advantages of running the simulation versus an actual experiment?\",\n",
    "    \"A) The simulation will not contain any bias that favors one body type over another, while an experiment will be biased.\", \n",
    "    \"B) The simulation can be run more safely than an actual experiment.\", \n",
    "    \"C) The simulation will accurately predict the parachute's safety level, while an experiment may be inaccurate due to faulty experimental design.\", \n",
    "    \"D) The simulation can test the parachute design in a wide range of environmental conditions that may be difficult to reliably reproduce in an experiment.\",\n",
    "    [\"B\", \"D\"]),\n",
    "    (\"What module in python could be used to generate random values in simulation experiments?\",\n",
    "    \"A) tensorflow\",\n",
    "    \"B) randint\", \n",
    "    \"C) turtle\", \n",
    "    \"D) random\", \n",
    "    [\"D\"]),\n",
    "    (\"True or false, simulations are terrible at emulating real world scenarios and variables\",\n",
    "    \"A) True\", \n",
    "    \"B) False\", \n",
    "    \"C) What's a simulation?\", \n",
    "    \"D) What scenarios?\",\n",
    "    [\"B\"])\n",
    "]\n",
    "\n",
    "correct = 0\n",
    "total = 6\n",
    "def printQuestions(tuple):\n",
    "    print(tuple[0])\n",
    "    print(tuple[1])\n",
    "    print(tuple[2])\n",
    "    print(tuple[3])\n",
    "    print(tuple[4])\n",
    "\n",
    "def questionloop():\n",
    "    correct = 0\n",
    "    for i in range(len(quiz)):\n",
    "        printQuestions(quiz[i])\n",
    "        ans = input(\"What is your answer? \")\n",
    "        if ans in quiz[i][5]:\n",
    "            print(\"Nice, you get a bronze medal!!\")\n",
    "            correct+=1\n",
    "        else:\n",
    "            print(\"L bozo\")\n",
    "    return correct\n",
    "\n",
    "correct = questionloop()\n",
    "print(\"You got \", correct, \"/\", total, \" questions right!\")"
   ]
  },
  {
   "attachments": {},
   "cell_type": "markdown",
   "metadata": {},
   "source": [
    "### Hack #6 / Challenge - Taking real life problems and implementing them into code"
   ]
  },
  {
   "attachments": {},
   "cell_type": "markdown",
   "metadata": {},
   "source": [
    "Create your own simulation based on your experiences/knowledge!\n",
    "Be creative! Think about instances in your own life, science, puzzles that can be made into simulations\n",
    "\n",
    "Some ideas to get your brain running: A simulation that breeds two plants and tells you phenotypes of offspring, an adventure simulation..."
   ]
  },
  {
   "cell_type": "code",
   "execution_count": 60,
   "metadata": {},
   "outputs": [
    {
     "name": "stdout",
     "output_type": "stream",
     "text": [
      "Welcome To SimuLotto!\n",
      "Enter 5 Numbers:\n",
      "You got 0 correct numbers\n",
      "Result: [92, 94, 99, 60, 10]\n"
     ]
    }
   ],
   "source": [
    "from random import randint as r\n",
    "\n",
    "lucky_numbers = []\n",
    "user_numbers = []\n",
    "\n",
    "correct_numbers = 0\n",
    "\n",
    "print('Welcome To SimuLotto!')\n",
    "print('Enter 5 Numbers:')\n",
    "\n",
    "# For generating random lucky numbers\n",
    "for num in range(0,5):\n",
    "    random_num = r(1, 100)\n",
    "    lucky_numbers.append(random_num)\n",
    "\n",
    "# For getting user numbers\n",
    "for num in range(0,5):\n",
    "    user_num = int(input())\n",
    "    user_numbers.append(user_num)\n",
    "\n",
    "# For checking if got any lucky numbers\n",
    "for lucky_num in lucky_numbers:\n",
    "    for user_num in user_numbers:\n",
    "        if user_num == lucky_num:\n",
    "            correct_numbers = correct_numbers + 1\n",
    "\n",
    "print(f'You got {correct_numbers} correct numbers')\n",
    "\n",
    "print(f'Result: {lucky_numbers}')"
   ]
  }
 ],
 "metadata": {
  "kernelspec": {
   "display_name": "Python 3.9.12 ('base')",
   "language": "python",
   "name": "python3"
  },
  "language_info": {
   "codemirror_mode": {
    "name": "ipython",
    "version": 3
   },
   "file_extension": ".py",
   "mimetype": "text/x-python",
   "name": "python",
   "nbconvert_exporter": "python",
   "pygments_lexer": "ipython3",
   "version": "3.9.12"
  },
  "orig_nbformat": 4,
  "vscode": {
   "interpreter": {
    "hash": "5e6e94ee7eb6faa549b0272dc29cdf01ee84757b8521322f0009accfa480a59f"
   }
  }
 },
 "nbformat": 4,
 "nbformat_minor": 2
}
