{
 "cells": [
  {
   "cell_type": "markdown",
   "metadata": {},
   "source": [
    "# Lists and Iteration Homework and Challenges\n",
    "> Try to complete this to show understanding! Copy this into your notebook so you can also take notes as we lecture. Make a copy of this notebook to your own repository to take notes, do the class challenges, and to access the homework.\n",
    "- title: Lists and Iteration Homework\n",
    "- toc: true\n",
    "- permalink: /homework/"
   ]
  },
  {
   "cell_type": "markdown",
   "metadata": {},
   "source": [
    "## Overview and Notes:  3.10 - Lists\n",
    "- Make sure you complete the challenge in the challenges section while we present the lesson! \\\n",
    "\n",
    "Add your <mark>OWN</mark> Notes for 3.10 here: \n",
    "- Lists are collections of data that can store lots of information\n",
    "- You can manipulate lists to be changed automatically\n",
    "- Lists have indexs that represent the location of an element in their respective list. Normally start on 0 in most coding languages.\n",
    "\n",
    "\n",
    "Fill out the empty boxes: \n",
    "\n",
    "|   Pseudocode Operation  | Python Syntax |                                                           Description                                                          |\n",
    "|:-----------------------:|---------------|:------------------------------------------------------------------------------------------------------------------------------:|\n",
    "|         aList[i]        |       aList[i]        | _Accesses the element of aList at index i_                                                                                     |\n",
    "|       x ← aList[i]      |      x = aList[i]        | _Assigns the element of aList at index i <br>to a variable 'x'_                                                                |\n",
    "|       aList[i] <-- x     |      aList[i] = x         | _Assigns the value of a variable 'x' to <br>the element of a List at index i_                                                  |\n",
    "|   aList[i] ← aList[j]   |       aList[i] = aList[j]        | _Assigns value of aList[j] to aList[i]_                                                                                        |\n",
    "| INSERT(aList, i, value) |       aList.insert(i, value)        | _value is placed at index i in aList. Any <br>element at an index greater than i will shift<br>one position to the right. _    |\n",
    "|   APPEND(aList, value)  |      aList.append(value)         | _value is placed in index i in aList. Any element with an index value greater than i will shift one position to the right.                                    |\n",
    "|     REMOVE(aList, i)    |      aList.pop(i)<br>OR<br>aList.remove(value)         | _Removes item at index i and any values at <br>indices greater than i shift to the left. <br>Length of aList decreased by 1. _ |\n"
   ]
  },
  {
   "cell_type": "markdown",
   "metadata": {},
   "source": [
    "## Overview and Notes:  3.8 - Iteration\n",
    "\n",
    "Add your <mark>OWN</mark> Notes for 3.8 here: \n",
    "\n",
    "- To iterate is to repeat. In coding, it is used to describe repeating sections of code based on a set of programs.\n",
    "- Make sure to not have a dead loop that infinitely repeats.\n",
    "- Automating code is possible using various types of loops.\n",
    "- We can make loops inside loops.\n"
   ]
  },
  {
   "cell_type": "markdown",
   "metadata": {},
   "source": [
    "## Homework Assignment\n",
    "\n",
    "Instead of us making a quiz for you to take, we would like YOU to make a quiz about the material we reviewed.\n",
    "\n",
    "We would like you to <mark>input questions into a list</mark>, and use some sort of iterative system to print the questions, detect an input, and determine if you answered correctly. There should be *at least* <mark>five questions</mark>, each with *at least* <mark>three possible answers</mark>.\n",
    "\n",
    "You may use the template below as a framework for this assignment."
   ]
  },
  {
   "cell_type": "code",
   "execution_count": 192,
   "metadata": {},
   "outputs": [
    {
     "name": "stdout",
     "output_type": "stream",
     "text": [
      "Q1: what is the python syntax for accessing an element of a list?\n",
      "A) aList[i]\n",
      "B) x <-- aList[3]\n",
      "C) idk\n",
      "None\n",
      "correct!\n",
      "Q2: what is the psuedocode syntax for assigning a value of one index in a list to another?\n",
      "A) aList.insert(i, value)\n",
      "B) WHAT IS THIS\n",
      "C) aList[i] = aList[j]\n",
      "None\n",
      "correct!\n",
      "Q3: what is the syntax for appending something into a string?\n",
      "A) aList.append(value)\n",
      "B) REMOVE(aList, i)\n",
      "C) help\n",
      "None\n",
      "correct!\n",
      "Q4: what does it mean to append something?\n",
      "A) To join something together\n",
      "B) To seperate something\n",
      "C) what is python?\n",
      "None\n",
      "L you got it wrong\n",
      "Q5: what is a recursive loop?\n",
      "A) a loop that is for something\n",
      "B) a function\n",
      "C) loops that involve incrementing a variable until it reaches a certain break point.\n",
      "None\n",
      "L you got it wrong\n",
      "you got 3 / 5right!\n"
     ]
    }
   ],
   "source": [
    "qCorrect: 0\n",
    "qTotal: 5\n",
    "questions = [\n",
    "    (\"Q1: what is the python syntax for accessing an element of a list?\", \n",
    "     \"A) aList[i]\", \n",
    "     \"B) x <-- aList[3]\", \n",
    "     \"C) idk\",\n",
    "     \"A\"),\n",
    "    (\"Q2: what is the psuedocode syntax for assigning a value of one index in a list to another?\", \n",
    "     \"A) aList.insert(i, value)\", \n",
    "     \"B) WHAT IS THIS\", \n",
    "     \"C) aList[i] = aList[j]\",\n",
    "     \"C\"),\n",
    "    (\"Q3: what is the syntax for appending something into a string?\", \n",
    "     \"A) aList.append(value)\", \n",
    "     \"B) REMOVE(aList, i)\", \n",
    "     \"C) help\",\n",
    "     \"A\"),\n",
    "     \n",
    "    (\"Q4: what does it mean to append something?\", \n",
    "     \"A) To join something together\", \n",
    "     \"B) To seperate something\", \n",
    "     \"C) what is python?\",\n",
    "     \"A\"),\n",
    "     \n",
    "    (\"Q5: what is a recursive loop?\",\n",
    "     \"A) a loop that is for something\",\n",
    "     \"B) a function\",\n",
    "     \"C) loops that involve incrementing a variable until it reaches a certain break point.\",\n",
    "     \"C\")\n",
    "]\n",
    "\n",
    "def printQuestion(tuple):\n",
    "    print(tuple[0])\n",
    "    print(tuple[1])\n",
    "    print(tuple[2])\n",
    "    print(tuple[3])\n",
    "qCorrect = 0\n",
    "qTotal = 5\n",
    "\n",
    "def questionloop():  \n",
    "  qCorrect = 0\n",
    "  qTotal = 5\n",
    "  for i in range(len(questions)):\n",
    "      print(printQuestion(questions[i]))\n",
    "      qAnswer = input(\"insert answer here...\")\n",
    "      if qAnswer == questions[i][4]:\n",
    "        print(\"correct!\")\n",
    "        qCorrect += 1\n",
    "      else: \n",
    "        print(\"L you got it wrong\")\n",
    "  return qCorrect\n",
    "      \n",
    "    \n",
    "qCorrect = questionloop()\n",
    "print(\"you got\" + \" \" + str(qCorrect) + \" \" + \"/\" + \" \" + str(qTotal) + \" \" +  \"right!\")\n"
   ]
  },
  {
   "cell_type": "markdown",
   "metadata": {},
   "source": [
    "### Hacks\n",
    "\n",
    "Here are some ideas of things you can do to make your program even cooler. Doing these will raise your grade if done correctly.\n",
    "\n",
    "- Add more than five questions with more than three answer choices\n",
    "- Randomize the order in which questions/answers are output\n",
    "- At the end, display the user's score and determine whether or not they passed\n",
    "\n",
    "## Challenges\n",
    "\n",
    "<mark>Important!</mark> You don't have to complete these challenges completely perfectly, but you will be marked down if you don't show evidence of at least having tried these challenges in the time we gave during the lesson.\n",
    "\n",
    "### 3.10 Challenge\n",
    "\n",
    "Follow the instructions in the code comments."
   ]
  },
  {
   "cell_type": "code",
   "execution_count": null,
   "metadata": {},
   "outputs": [
    {
     "name": "stdout",
     "output_type": "stream",
     "text": [
      "carrots\n",
      "carrots\n",
      "artichokes\n",
      "['apples', 'eggs', 'artichokes', 'carrots', 'cucumbers', 'umbrellas', 'artichokes']\n"
     ]
    }
   ],
   "source": [
    "grocery_list = ['apples', 'milk', 'oranges', 'carrots', 'cucumbers']\n",
    "\n",
    "# Print the fourth item in the list\n",
    "\n",
    "print(grocery_list[3])\n",
    "\n",
    "# Now, assign the fourth item in the list to a variable, x and then print the variable\n",
    "\n",
    "x = grocery_list[3]\n",
    "print(x)\n",
    "\n",
    "# Add these two items at the end of the list : umbrellas and artichokes\n",
    "\n",
    "grocery_list.append(\"umbrellas\")\n",
    "grocery_list.append(\"artichokes\")\n",
    "\n",
    "# Insert the item eggs as the third item of the list \n",
    "\n",
    "grocery_list.insert(2,\"eggs\")\n",
    "\n",
    "# Remove milk from the list \n",
    "\n",
    "grocery_list.remove(\"milk\")\n",
    "\n",
    "# Assign the element at the end of the list to index 2. Print index 2 to check\n",
    "\n",
    "grocery_list[2] = grocery_list[-1]\n",
    "print(grocery_list[2])\n",
    "\n",
    "# Print the entire list, does it match ours ? \n",
    "\n",
    "print(grocery_list)\n",
    "\n",
    "# Expected output\n",
    "# carrots\n",
    "# carrots\n",
    "# artichokes\n",
    "# ['apples', 'eggs', 'artichokes', 'carrots', 'cucumbers', 'umbrellas', 'artichokes']"
   ]
  },
  {
   "cell_type": "markdown",
   "metadata": {},
   "source": [
    "### 3.8 Challenge\n",
    "\n",
    "Create a loop that <mark>converts 8-bit binary values</mark> from the provided list into <mark>decimal numbers</mark>. Then, after the value is determined, <mark>remove all the values greater than 100</mark> from the list using a list-related function you've been taught before. <mark>Print the new list</mark> when done.\n",
    "\n",
    "Once you've done this with one of the types of loops discussed in this lesson, create a function that does the same thing with a *different* type of loop."
   ]
  },
  {
   "cell_type": "code",
   "execution_count": 206,
   "metadata": {},
   "outputs": [
    {
     "name": "stdout",
     "output_type": "stream",
     "text": [
      "1001001\n"
     ]
    }
   ],
   "source": [
    "binarylist = [\"01001001\", \"10101010\", \"10010110\", \"00110111\", \"11101100\", \"11010001\", \"10000001\"]\n",
    "declist = []\n",
    "\n",
    "# how would I reverse engineer binary bit-by-bit? I don't understand an ounce as to what to do.\n",
    "\n",
    "def binary_convert(binarylist):\n",
    "    \n",
    "    print(int(binarylist[0])) # i guess i could try and reverse the remainder stuff from dec -> bin but i don't know how i could go about it\n",
    "                               # the issue lies with the fact that this is a list with strings.\n",
    "binary_convert(binarylist)"
   ]
  }
 ],
 "metadata": {
  "kernelspec": {
   "display_name": "Python 3.9.12 ('base')",
   "language": "python",
   "name": "python3"
  },
  "language_info": {
   "codemirror_mode": {
    "name": "ipython",
    "version": 3
   },
   "file_extension": ".py",
   "mimetype": "text/x-python",
   "name": "python",
   "nbconvert_exporter": "python",
   "pygments_lexer": "ipython3",
   "version": "3.9.12"
  },
  "orig_nbformat": 4,
  "vscode": {
   "interpreter": {
    "hash": "5e6e94ee7eb6faa549b0272dc29cdf01ee84757b8521322f0009accfa480a59f"
   }
  }
 },
 "nbformat": 4,
 "nbformat_minor": 2
}
