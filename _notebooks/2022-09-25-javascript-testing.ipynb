{
 "cells": [
  {
   "cell_type": "markdown",
   "metadata": {},
   "source": [
    "## This is my table. \n",
    "It was created using HTML Fragments:\n",
    "\n",
    "<table>\n",
    " <tr>\n",
    "     <th>JS</th> \n",
    "     <th>More Table</th>\n",
    "    </tr>\n",
    "    \n",
    "    <tr>\n",
    "        <td>JavaScript Usage</td>\n",
    "        <td>\n",
    "             <a href=\"{{site.baseurl}}/jstest/js-trial-and-error\">JavaScript Demonstration</a>\n",
    "        </td>\n",
    "    </tr>\n",
    "\n",
    "    <tr>\n",
    "        <td>More Table</td>\n",
    "        <td>\n",
    "             <a href=\"{{site.baseurl}}/lecture\">More Table</a>\n",
    "        </td>\n",
    "    </tr>\n",
    "\n",
    "</table>"
   ]
  }
 ],
 "metadata": {
  "kernelspec": {
   "display_name": "Bash",
   "language": "bash",
   "name": "bash"
  },
  "language_info": {
   "file_extension": ".js",
   "mimetype": "application/javascript",
   "name": "bash",
   "version": "6.11.2"
  },
  "orig_nbformat": 4
 },
 "nbformat": 4,
 "nbformat_minor": 2
}
