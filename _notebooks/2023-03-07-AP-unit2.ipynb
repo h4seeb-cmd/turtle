{
 "cells": [
  {
   "attachments": {},
   "cell_type": "markdown",
   "metadata": {},
   "source": [
    "#  Unit 2.2 Data Compression, Images\n",
    "> Lab will perform alterations on images, manipulate RGB values, and reduce the number of pixels.  College Board requires you to learn about Lossy and Lossless compression.  \n",
    "- toc: true\n",
    "- comments: true\n",
    "- branch: master\n",
    "- comments: true \n",
    "- badges: true\n",
    "- author: Haseeb Beg\n",
    "- categories: [fastpages, jupyter, Week 25]"
   ]
  },
  {
   "cell_type": "markdown",
   "metadata": {},
   "source": []
  },
  {
   "attachments": {},
   "cell_type": "markdown",
   "metadata": {},
   "source": [
    "## Enumerate \"Data\" Big Idea from College Board \n",
    "> Some of the big ideas and vocab that you observe, talk about it with a partner ...\n",
    "- \"Data compression is the reduction of the number of bits needed to represent data\"\n",
    "- \"Data compression is used to save transmission time and storage space.\"\n",
    "- \"lossy data can reduce data but the original data is not recovered\"\n",
    "- \"lossless data lets you restore and recover\"\n",
    "\n",
    "The [Image Lab Project](https://csp.nighthawkcodingsociety.com/starter/rgb/) contains a plethora of College Board Unit 2 data concepts. Working with Images provides many opportunities for compression and analyzing size."
   ]
  },
  {
   "attachments": {},
   "cell_type": "markdown",
   "metadata": {},
   "source": [
    "## Image Files and Size\n",
    "> Here are some [Images Files](https://github.com/nighthawkcoders/nighthawk_csp/tree/master/starter/static/img).  Download these files, load them into `images` directory under **_notebooks** in your Blog.   \n",
    "- [Clouds Impression](https://github.com/nighthawkcoders/APCSP/blob/master/_notebooks/images/clouds-impression.png)\n",
    "- [Lassen Volcano](https://github.com/nighthawkcoders/APCSP/blob/master/_notebooks/images/lassen-volcano.jpg)\n",
    "- [Green Square](https://github.com/nighthawkcoders/APCSP/blob/master/_notebooks/images/green-square-16.png)\n",
    "\n",
    "Describe some of the meta data and considerations when managing Image files.  Describe how these relate to Data Compression ...\n",
    "- File Type, PNG and JPG are two types used in this lab\n",
    "- Size, height and width, number of pixels\n",
    "- Visual perception, lossy compression"
   ]
  },
  {
   "attachments": {},
   "cell_type": "markdown",
   "metadata": {},
   "source": [
    "## Python Libraries and Concepts used for Jupyter and Files/Directories\n",
    "> Introduction to displaying images in Jupyter notebook\n",
    "\n",
    "### IPython \n",
    "> Support visualization of data in Jupyter notebooks.  Visualization is specific to View, for the web visualization needs to be converted to HTML.\n",
    "\n",
    "### pathlib\n",
    "> File paths are different on Windows versus Mac and Linux.  This can cause problems in a project as you work and deploy on different Operating Systems (OS's), pathlib is a solution to this problem. \n",
    "- What are commands you use in terminal to access files?\n",
    "- What are the command you use in Windows terminal to access files?\n",
    "- What are some of the major differences?\n",
    "\n",
    "Provide what you observed, struggled with, or leaned while playing with this code.\n",
    "- Why is path a big deal when working with images?\n",
    "- How does the meta data source and label relate to Unit 5 topics?\n",
    "- Look up IPython, describe why this is interesting in Jupyter Notebooks for both Pandas and Images?"
   ]
  },
  {
   "cell_type": "code",
   "execution_count": 4,
   "metadata": {},
   "outputs": [
    {
     "data": {
      "image/png": "[encoded data removed]",
      "text/plain": [
       "<IPython.core.display.Image object>"
      ]
     },
     "metadata": {},
     "output_type": "display_data"
    }
   ],
   "source": [
    "\n",
    "from IPython.display import Image, display\n",
    "from pathlib import Path  # https://medium.com/@ageitgey/python-3-quick-tip-the-easy-way-to-deal-with-file-paths-on-windows-mac-and-linux-11a072b58d5f\n",
    "\n",
    "# prepares a series of images\n",
    "def image_data(path=Path(\"images/\"), images=None):  # path of static images is defaulted\n",
    "    if images is None:  # default image\n",
    "        images = [\n",
    "            {'source': \"Internet\", 'label': \"Happy Face\", 'file': \"SMILE.png\"}\n",
    "        ]\n",
    "    for image in images:\n",
    "        # File to open\n",
    "        image['filename'] = path / image['file']  # file with path\n",
    "    return images\n",
    "\n",
    "def image_display(images):\n",
    "    for image in images:  \n",
    "        display(Image(filename=image['filename']))\n",
    "\n",
    "\n",
    "# Run this as standalone tester to see sample data printed in Jupyter terminal\n",
    "if __name__ == \"__main__\":\n",
    "    # print parameter supplied image\n",
    "    # green_square = image_data(images=[{'source': \"Internet\", 'label': \"Happy Face\", 'file': \"SMILE.png\"}])\n",
    "    # image_display(green_square)\n",
    "    \n",
    "    # display default images from image_data()\n",
    "    default_images = image_data()\n",
    "    image_display(default_images)\n",
    "    "
   ]
  },
  {
   "attachments": {},
   "cell_type": "markdown",
   "metadata": {},
   "source": [
    "## Reading and Encoding Images (2 implementations follow)\n",
    "\n",
    "### PIL (Python Image Library)\n",
    "> [Pillow or PIL](https://pillow.readthedocs.io/en/stable/) provides the ability to work with images in Python.  [Geeks for Geeks](https://www.geeksforgeeks.org/working-images-python/?ref=lbp) shows some ideas on working with images.  \n",
    "\n",
    "\n",
    "### base64\n",
    "> Image formats (JPG, PNG) are often called ***Binary File formats**, it is difficult to pass these over HTTP.   Thus, [base64](https://en.wikipedia.org/wiki/Base64) converts binary encoded data (8-bit, ASCII/Unicode) into a text encoded scheme (24 bits, 6-bit Base64 digits).  Thus base64 is used to transport and embed binary images into textual assets such as HTML and CSS.\n",
    "- How is Base64 similar or different to Binary and Hexadecimal?\n",
    "- Translate first 3 letters of your name to Base64.\n",
    "\n",
    "\n",
    "### numpy\n",
    "> [Numpy](https://numpy.org/) is described as \"The fundamental package for scientific computing with Python\".  In the Image Lab, a Numpy array is created from the image data in order to simplify access and change to the RGB values of the pixels, converting pixels to grey scale.\n",
    "\n",
    "\n",
    "### io, BytesIO\n",
    "> Input and Output (I/O) is a fundamental of all Computer Programming. Input/output (I/O) buffering is a technique used to optimize I/O operations.  In large quantities of data, how many frames of input the server currently has queued is the buffer.  In this example, there is a very large picture that lags.\n",
    "- Where have you been a consumer of buffering?  \n",
    "- From your consumer experience, what effects have you experienced from buffering?  \n",
    "- How do these effects apply to images?\n"
   ]
  },
  {
   "attachments": {},
   "cell_type": "markdown",
   "metadata": {},
   "source": [
    "## Data Structures, Imperative Programming Style, and working with Images\n",
    "> Introduction to creating meta data and manipulating images.  Look at each procedure and explain the the purpose and results of this program.  Add any insights or challenges as you explored this program.\n",
    "- Does this code seem like a series of steps are being performed?\n",
    "- Describe Grey Scale algorithm in English or Pseudo code?\n",
    "- Describe scale image?  What is before and after on pixels in three images?\n",
    "- Is scale image a type of compression?  If so, line it up with College Board terms described?"
   ]
  },
  {
   "cell_type": "code",
   "execution_count": 8,
   "metadata": {},
   "outputs": [
    {
     "name": "stdout",
     "output_type": "stream",
     "text": [
      "---- meta data -----\n",
      "Happy Face\n",
      "Internet\n",
      "JPEG\n",
      "RGB\n",
      "Original size:  (474, 406)\n",
      "Scaled size:  (320, 274)\n",
      "-- original image --\n"
     ]
    },
    {
     "data": {
      "text/html": [
       "<img src=\"data:image/png;base64,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\">"
      ],
      "text/plain": [
       "<IPython.core.display.HTML object>"
      ]
     },
     "metadata": {},
     "output_type": "display_data"
    },
    {
     "name": "stdout",
     "output_type": "stream",
     "text": [
      "--- grey image ----\n"
     ]
    },
    {
     "data": {
      "text/html": [
       "<img src=\"data:image/png;base64,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\">"
      ],
      "text/plain": [
       "<IPython.core.display.HTML object>"
      ]
     },
     "metadata": {},
     "output_type": "display_data"
    },
    {
     "name": "stdout",
     "output_type": "stream",
     "text": [
      "\n"
     ]
    }
   ],
   "source": [
    "from IPython.display import HTML, display\n",
    "from pathlib import Path  # https://medium.com/@ageitgey/python-3-quick-tip-the-easy-way-to-deal-with-file-paths-on-windows-mac-and-linux-11a072b58d5f\n",
    "from PIL import Image as pilImage # as pilImage is used to avoid conflicts\n",
    "from io import BytesIO\n",
    "import base64\n",
    "import numpy as np\n",
    "\n",
    "# prepares a series of images\n",
    "def image_data(path=Path(\"images/\"), images=None):  # path of static images is defaulted\n",
    "    if images is None:  # default image\n",
    "        images = [\n",
    "            {'source': \"Internet\", 'label': \"Happy Face\", 'file': \"SMILE.png\"}\n",
    "        ]\n",
    "    for image in images:\n",
    "        # File to open\n",
    "        image['filename'] = path / image['file']  # file with path\n",
    "    return images\n",
    "\n",
    "# Large image scaled to baseWidth of 320\n",
    "def scale_image(img):\n",
    "    baseWidth = 320\n",
    "    scalePercent = (baseWidth/float(img.e[0]))\n",
    "    scaleHeight = int((float(img.size[1])*float(scalePercent)))\n",
    "    scale = (baseWidth, scaleHeight)\n",
    "    return img.resize(scale)\n",
    "\n",
    "# PIL image converted to base64\n",
    "def image_to_base64(img, format):\n",
    "    with BytesIO() as buffer:\n",
    "        img.save(buffer, format)\n",
    "        return base64.b64encode(buffer.getvalue()).decode()\n",
    "\n",
    "# Set Properties of Image, Scale, and convert to Base64\n",
    "def image_management(image):  # path of static images is defaulted        \n",
    "    # Image open return PIL image object\n",
    "    img = pilImage.open(image['filename'])\n",
    "    \n",
    "    # Python Image Library operations\n",
    "    image['format'] = img.format\n",
    "    image['mode'] = img.mode\n",
    "    image['size'] = img.size\n",
    "    # Scale the Image\n",
    "    img = scale_image(img)\n",
    "    image['pil'] = img\n",
    "    image['scaled_size'] = img.size\n",
    "    # Scaled HTML\n",
    "    image['html'] = '<img src=\"data:image/png;base64,%s\">' % image_to_base64(image['pil'], image['format'])\n",
    "    \n",
    "# Create Grey Scale Base64 representation of Image\n",
    "def image_management_add_html_grey(image):\n",
    "    # Image open return PIL image object\n",
    "    img = image['pil']\n",
    "    format = image['format']\n",
    "    \n",
    "    img_data = img.getdata()  # Reference https://www.geeksforgeeks.org/python-pil-image-getdata/\n",
    "    image['data'] = np.array(img_data) # PIL image to numpy array\n",
    "    image['gray_data'] = [] # key/value for data converted to gray scale\n",
    "\n",
    "    # 'data' is a list of RGB data, the list is traversed and hex and binary lists are calculated and formatted\n",
    "    for pixel in image['data']:\n",
    "        # create gray scale of image, ref: https://www.geeksforgeeks.org/convert-a-numpy-array-to-an-image/\n",
    "        average = (pixel[0] + pixel[1] + pixel[2]) // 3  # average pixel values and use // for integer division\n",
    "        if len(pixel) > 3:\n",
    "            image['gray_data'].append((average, average, average, pixel[3])) # PNG format\n",
    "        else:\n",
    "            image['gray_data'].append((average, average, average))\n",
    "        # end for loop for pixels\n",
    "        \n",
    "    img.putdata(image['gray_data'])\n",
    "    image['html_grey'] = '<img src=\"data:image/png;base64,%s\">' % image_to_base64(img, format)\n",
    "\n",
    "\n",
    "# Jupyter Notebook Visualization of Images\n",
    "if __name__ == \"__main__\":\n",
    "    # Use numpy to concatenate two arrays\n",
    "    images = image_data()\n",
    "    \n",
    "    # Display meta data, scaled view, and grey scale for each image\n",
    "    for image in images:\n",
    "        image_management(image)\n",
    "        print(\"---- meta data -----\")\n",
    "        print(image['label'])\n",
    "        print(image['source'])\n",
    "        print(image['format'])\n",
    "        print(image['mode'])\n",
    "        print(\"Original size: \", image['size'])\n",
    "        print(\"Scaled size: \", image['scaled_size'])\n",
    "        \n",
    "        print(\"-- original image --\")\n",
    "        display(HTML(image['html'])) \n",
    "        \n",
    "        print(\"--- grey image ----\")\n",
    "        image_management_add_html_grey(image)\n",
    "        display(HTML(image['html_grey'])) \n",
    "    print()"
   ]
  },
  {
   "attachments": {},
   "cell_type": "markdown",
   "metadata": {},
   "source": [
    "## Data Structures and OOP\n",
    "> Most data structures classes require Object Oriented Programming (OOP).  Since this class is lined up with a College Course,  OOP will be talked about often.  Functionality in remainder of this Blog is the same as the prior implementation.  Highlight some of the key difference you see between imperative and oop styles.\n",
    "-  Read imperative and object-oriented programming on Wikipedia\n",
    "-  Consider how data is organized in two examples, in relations to procedures\n",
    "-  Look at Parameters in Imperative and Self in OOP\n",
    "\n",
    "## Additionally, review all the imports in these three demos.  Create a definition of their purpose, specifically these ...\n",
    "- PIL, or Python Image Library is a \n",
    "- numpy\n",
    "- base64"
   ]
  },
  {
   "cell_type": "code",
   "execution_count": 10,
   "metadata": {},
   "outputs": [
    {
     "name": "stdout",
     "output_type": "stream",
     "text": [
      "---- meta data -----\n",
      "Happy Face\n",
      "Internet\n",
      "SMILE.png\n",
      "JPEG\n",
      "RGB\n",
      "Original size:  (474, 406)\n",
      "Scaled size:  (320, 274)\n",
      "-- scaled image --\n"
     ]
    },
    {
     "data": {
      "text/html": [
       "<img src=\"data:image/png;base64,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\">"
      ],
      "text/plain": [
       "<IPython.core.display.HTML object>"
      ]
     },
     "metadata": {},
     "output_type": "display_data"
    },
    {
     "name": "stdout",
     "output_type": "stream",
     "text": [
      "--- grey image ---\n"
     ]
    },
    {
     "data": {
      "text/html": [
       "<img src=\"data:image/png;base64,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\">"
      ],
      "text/plain": [
       "<IPython.core.display.HTML object>"
      ]
     },
     "metadata": {},
     "output_type": "display_data"
    },
    {
     "name": "stdout",
     "output_type": "stream",
     "text": [
      "\n"
     ]
    }
   ],
   "source": [
    "from IPython.display import HTML, display\n",
    "from pathlib import Path  # https://medium.com/@ageitgey/python-3-quick-tip-the-easy-way-to-deal-with-file-paths-on-windows-mac-and-linux-11a072b58d5f\n",
    "from PIL import Image as pilImage # as pilImage is used to avoid conflicts\n",
    "from io import BytesIO\n",
    "import base64\n",
    "import numpy as np\n",
    "\n",
    "\n",
    "class Image_Data:\n",
    "\n",
    "    def __init__(self, source, label, file, path, baseWidth=320):\n",
    "        self._source = source    # variables with self prefix become part of the object, \n",
    "        self._label = label\n",
    "        self._file = file\n",
    "        self._filename = path / file  # file with path\n",
    "        self._baseWidth = baseWidth\n",
    "\n",
    "        # Open image and scale to needs\n",
    "        self._img = pilImage.open(self._filename)\n",
    "        self._format = self._img.format\n",
    "        self._mode = self._img.mode\n",
    "        self._originalSize = self.img.size\n",
    "        self.scale_image()\n",
    "        self._html = self.image_to_html(self._img)\n",
    "        self._html_grey = self.image_to_html_grey()\n",
    "\n",
    "\n",
    "    @property\n",
    "    def source(self):\n",
    "        return self._source  \n",
    "    \n",
    "    @property\n",
    "    def label(self):\n",
    "        return self._label \n",
    "    \n",
    "    @property\n",
    "    def file(self):\n",
    "        return self._file   \n",
    "    \n",
    "    @property\n",
    "    def filename(self):\n",
    "        return self._filename   \n",
    "    \n",
    "    @property\n",
    "    def img(self):\n",
    "        return self._img\n",
    "             \n",
    "    @property\n",
    "    def format(self):\n",
    "        return self._format\n",
    "    \n",
    "    @property\n",
    "    def mode(self):\n",
    "        return self._mode\n",
    "    \n",
    "    @property\n",
    "    def originalSize(self):\n",
    "        return self._originalSize\n",
    "    \n",
    "    @property\n",
    "    def size(self):\n",
    "        return self._img.size\n",
    "    \n",
    "    @property\n",
    "    def html(self):\n",
    "        return self._html\n",
    "    \n",
    "    @property\n",
    "    def html_grey(self):\n",
    "        return self._html_grey\n",
    "        \n",
    "    # Large image scaled to baseWidth of 320\n",
    "    def scale_image(self):\n",
    "        scalePercent = (self._baseWidth/float(self._img.size[0]))\n",
    "        scaleHeight = int((float(self._img.size[1])*float(scalePercent)))\n",
    "        scale = (self._baseWidth, scaleHeight)\n",
    "        self._img = self._img.resize(scale)\n",
    "    \n",
    "    # PIL image converted to base64\n",
    "    def image_to_html(self, img):\n",
    "        with BytesIO() as buffer:\n",
    "            img.save(buffer, self._format)\n",
    "            return '<img src=\"data:image/png;base64,%s\">' % base64.b64encode(buffer.getvalue()).decode()\n",
    "            \n",
    "    # Create Grey Scale Base64 representation of Image\n",
    "    def image_to_html_grey(self):\n",
    "        img_grey = self._img\n",
    "        numpy = np.array(self._img.getdata()) # PIL image to numpy array\n",
    "        \n",
    "        grey_data = [] # key/value for data converted to gray scale\n",
    "        # 'data' is a list of RGB data, the list is traversed and hex and binary lists are calculated and formatted\n",
    "        for pixel in numpy:\n",
    "            # create gray scale of image, ref: https://www.geeksforgeeks.org/convert-a-numpy-array-to-an-image/\n",
    "            average = (pixel[0] + pixel[1] + pixel[2]) // 3  # average pixel values and use // for integer division\n",
    "            if len(pixel) > 3:\n",
    "                grey_data.append((average, average, average, pixel[3])) # PNG format\n",
    "            else:\n",
    "                grey_data.append((average, average, average))\n",
    "            # end for loop for pixels\n",
    "            \n",
    "        img_grey.putdata(grey_data)\n",
    "        return self.image_to_html(img_grey)\n",
    "\n",
    "        \n",
    "# prepares a series of images, provides expectation for required contents\n",
    "def image_data(path=Path(\"images/\"), images=None):  # path of static images is defaulted\n",
    "    if images is None:  # default image\n",
    "        images = [\n",
    "            {'source': \"Internet\", 'label': \"Happy Face\", 'file': \"SMILE.png\"}\n",
    "        ]\n",
    "    return path, images\n",
    "\n",
    "# turns data into objects\n",
    "def image_objects():        \n",
    "    id_Objects = []\n",
    "    path, images = image_data()\n",
    "    for image in images:\n",
    "        id_Objects.append(Image_Data(source=image['source'], \n",
    "                                  label=image['label'],\n",
    "                                  file=image['file'],\n",
    "                                  path=path,\n",
    "                                  ))\n",
    "    return id_Objects\n",
    "\n",
    "# Jupyter Notebook Visualization of Images\n",
    "if __name__ == \"__main__\":\n",
    "    for ido in image_objects(): # ido is an Imaged Data Object\n",
    "        \n",
    "        print(\"---- meta data -----\")        \n",
    "        print(ido.label)\n",
    "        print(ido.source)\n",
    "        print(ido.file)\n",
    "        print(ido.format)\n",
    "        print(ido.mode)\n",
    "        print(\"Original size: \", ido.originalSize)\n",
    "        print(\"Scaled size: \", ido.size)\n",
    "        \n",
    "        print(\"-- scaled image --\")\n",
    "        display(HTML(ido.html))\n",
    "        \n",
    "        print(\"--- grey image ---\")\n",
    "        display(HTML(ido.html_grey))\n",
    "        \n",
    "    print()"
   ]
  },
  {
   "attachments": {},
   "cell_type": "markdown",
   "metadata": {},
   "source": [
    "## Hacks\n",
    "> Early Seed award\n",
    "- Add this Blog to you own Blogging site.\n",
    "- In the Blog add a Happy Face image.\n",
    "- Have Happy Face Image open when Tech Talk starts, running on localhost.  Don't tell anyone. Show to Teacher.\n",
    "\n",
    "> AP Prep\n",
    "- In the Blog add notes and observations on each code cell that request an answer.\n",
    "- In blog add College Board practice problems for 2.3\n",
    "- Choose 2 images, one that will more likely result in lossy data compression and one that is more likely to result in lossless data compression. Explain.\n",
    "\n",
    "> Project Addition\n",
    "- If your project has images in it, try to implement an image change that has a purpose. (Ex. An item that has been sold out could become gray scale)\n",
    "\n",
    "> Pick a programming paradigm and solve some of the following ...\n",
    "- Numpy, manipulating pixels.  As opposed to Grey Scale treatment, pick a couple of other types like red scale, green scale, or blue scale.  We want you to be manipulating pixels in the image.\n",
    "- Binary and Hexadecimal reports.  Convert and produce pixels in binary and Hexadecimal and display.\n",
    "- Compression and Sizing of images.  Look for insights into compression Lossy and Lossless.  Look at PIL library and see if there are other things that can be done.\n",
    "- There are many effects you can do as well with PIL. Blur the image or write Meta Data on screen, aka Title, Author and Image size.\n",
    "\n"
   ]
  },
  {
   "cell_type": "code",
   "execution_count": null,
   "metadata": {},
   "outputs": [],
   "source": []
  }
 ],
 "metadata": {
  "kernelspec": {
   "display_name": "base",
   "language": "python",
   "name": "python3"
  },
  "language_info": {
   "codemirror_mode": {
    "name": "ipython",
    "version": 3
   },
   "file_extension": ".py",
   "mimetype": "text/x-python",
   "name": "python",
   "nbconvert_exporter": "python",
   "pygments_lexer": "ipython3",
   "version": "3.9.12"
  },
  "orig_nbformat": 4,
  "vscode": {
   "interpreter": {
    "hash": "5e6e94ee7eb6faa549b0272dc29cdf01ee84757b8521322f0009accfa480a59f"
   }
  }
 },
 "nbformat": 4,
 "nbformat_minor": 2
}
