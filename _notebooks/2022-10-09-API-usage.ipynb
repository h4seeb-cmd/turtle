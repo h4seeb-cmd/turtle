{
 "cells": [
  {
   "cell_type": "markdown",
   "metadata": {},
   "source": [
    "# API Usage Demonstration\n",
    ">Demonstration of API Usage through weather forecasting!\n",
    "\n",
    "- title: \"API Demonstration\"\n",
    "- toc: true\n",
    "- comments: true\n",
    "- branch: master\n",
    "- comments: true \n",
    "- badges: true\n",
    "- author: Haseeb Beg\n",
    "- categories: [fastpages, jupyter, Week 7]\n",
    "- permalink: /submenu2/APIUsage"
   ]
  },
  {
   "cell_type": "markdown",
   "metadata": {},
   "source": [
    "<table>\n",
    "        <tbody>\n",
    "    <tr>\n",
    "        <td>\n",
    "        <a href=\"{{site.baseurl}}/submenu/js-trial-and-error\">JS Table</a>\n",
    "        </td>\n",
    "        <td>\n",
    "        <a href=\"{{site.baseurl}}/submenu2/APIUsage\">API Usage</a>\n",
    "        </td>\n",
    "        <td>\n",
    "        <a href=\"#\">Link 3</a>\n",
    "        </td>\n",
    "    </tr>\n",
    "        </tbody>\n",
    "</table>"
   ]
  },
  {
   "cell_type": "code",
   "execution_count": 31,
   "metadata": {},
   "outputs": [
    {
     "name": "stdout",
     "output_type": "stream",
     "text": [
      "Ohio Weather\n",
      "app_temp 68.4\n",
      "aqi 44\n",
      "city_name Kilbourne\n",
      "clouds 1\n",
      "country_code US\n",
      "datetime 2022-10-10:20\n",
      "dewpt 42.5\n",
      "dhi 78.51\n",
      "dni 687.38\n",
      "elev_angle 20.66\n",
      "ghi 314.27\n",
      "gust 10.6\n",
      "h_angle 45\n",
      "lat 40.3675\n",
      "lon -82.9962\n",
      "ob_time 2022-10-10 20:45\n",
      "pod d\n",
      "precip 0\n",
      "pres 988\n",
      "rh 36\n",
      "slp 1021.1857\n",
      "snow 0\n",
      "solar_rad 314.3\n",
      "sources ['rtma']\n",
      "state_code OH\n",
      "station G1320\n",
      "sunrise 11:38\n",
      "sunset 22:59\n",
      "temp 70\n",
      "timezone America/New_York\n",
      "ts 1665434750\n",
      "uv 2.2894833\n",
      "vis 9.9\n",
      "weather {'icon': 'c01d', 'code': 800, 'description': 'Clear sky'}\n",
      "wind_cdir W\n",
      "wind_cdir_full west\n",
      "wind_dir 272\n",
      "wind_spd 4.3\n"
     ]
    }
   ],
   "source": [
    "import requests\n",
    "from sqlalchemy import values\n",
    "\n",
    "url = \"https://weatherbit-v1-mashape.p.rapidapi.com/current\"\n",
    "\n",
    "querystring = {\"lon\":\"-82.996216\",\"lat\":\"40.367474\",\"units\":\"imperial\"}\n",
    "\n",
    "headers = {\n",
    "\t\"X-RapidAPI-Key\": \"0588371053msha6940727d7c83aap107c98jsn19374300bf1d\",\n",
    "\t\"X-RapidAPI-Host\": \"weatherbit-v1-mashape.p.rapidapi.com\"\n",
    "}\n",
    "\n",
    "response = requests.request(\"GET\", url, headers=headers, params=querystring)\n",
    "\n",
    "print(\"Ohio Weather\")\n",
    "weatherData = response.json().get(\"data\")\n",
    "OHweather = list(weatherData[0].items())\n",
    "for key, value in OHweather:\n",
    "\tprint(key, value)\n",
    "\n",
    "\n"
   ]
  }
 ],
 "metadata": {
  "kernelspec": {
   "display_name": "Python 3.9.12 ('base')",
   "language": "python",
   "name": "python3"
  },
  "language_info": {
   "codemirror_mode": {
    "name": "ipython",
    "version": 3
   },
   "file_extension": ".py",
   "mimetype": "text/x-python",
   "name": "python",
   "nbconvert_exporter": "python",
   "pygments_lexer": "ipython3",
   "version": "3.9.12"
  },
  "orig_nbformat": 4,
  "vscode": {
   "interpreter": {
    "hash": "5e6e94ee7eb6faa549b0272dc29cdf01ee84757b8521322f0009accfa480a59f"
   }
  }
 },
 "nbformat": 4,
 "nbformat_minor": 2
}
