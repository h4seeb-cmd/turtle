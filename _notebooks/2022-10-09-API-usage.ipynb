{
 "cells": [
  {
   "cell_type": "markdown",
   "metadata": {},
   "source": [
    "# API Usage Demonstration\n",
    ">Demonstration of API Usage \n",
    "\n",
    "- title: \"API Demonstration\"\n",
    "- toc: true\n",
    "- comments: true\n",
    "- branch: master\n",
    "- comments: true \n",
    "- badges: true\n",
    "- author: Haseeb Beg\n",
    "- categories: [fastpages, jupyter, Week 7]\n",
    "- permalink: /submenu2/APIUsage"
   ]
  },
  {
   "cell_type": "markdown",
   "metadata": {},
   "source": [
    "<table>\n",
    "        <tbody>\n",
    "    <tr>\n",
    "        <td>\n",
    "        <a href=\"{{site.baseurl}}/submenu/js-trial-and-error\">JS Table</a>\n",
    "        </td>\n",
    "        <td>\n",
    "        <a href=\"{{site.baseurl}}/submenu2/APIUsage\">API Usage</a>\n",
    "        </td>\n",
    "        <td>\n",
    "        <a href=\"#\">Link 3</a>\n",
    "        </td>\n",
    "    </tr>\n",
    "        </tbody>\n",
    "</table>"
   ]
  },
  {
   "cell_type": "code",
   "execution_count": 13,
   "metadata": {},
   "outputs": [
    {
     "name": "stdout",
     "output_type": "stream",
     "text": [
      "Albums\n",
      "totalCount 28\n",
      "items [{'data': {'uri': 'spotify:album:1rVhockt4RAiZFaK3M3zPB', 'name': 'No Jacket Required (2016 Remaster)', 'artists': {'items': [{'uri': 'spotify:artist:4lxfqrEsLX6N1N4OCSkILp', 'profile': {'name': 'Phil Collins'}}]}, 'coverArt': {'sources': [{'url': 'https://i.scdn.co/image/ab67616d00001e0279553c4dcec1846d3a5c49ab', 'width': 300, 'height': 300}, {'url': 'https://i.scdn.co/image/ab67616d0000485179553c4dcec1846d3a5c49ab', 'width': 64, 'height': 64}, {'url': 'https://i.scdn.co/image/ab67616d0000b27379553c4dcec1846d3a5c49ab', 'width': 640, 'height': 640}]}, 'date': {'year': 1985}}}, {'data': {'uri': 'spotify:album:7avlHipAwnKsxcXwC9Wpin', 'name': 'No Jacket Required (Deluxe Edition)', 'artists': {'items': [{'uri': 'spotify:artist:4lxfqrEsLX6N1N4OCSkILp', 'profile': {'name': 'Phil Collins'}}]}, 'coverArt': {'sources': [{'url': 'https://i.scdn.co/image/ab67616d00001e0257480be4ce4fd7659a25b7d9', 'width': 300, 'height': 300}, {'url': 'https://i.scdn.co/image/ab67616d0000485157480be4ce4fd7659a25b7d9', 'width': 64, 'height': 64}, {'url': 'https://i.scdn.co/image/ab67616d0000b27357480be4ce4fd7659a25b7d9', 'width': 640, 'height': 640}]}, 'date': {'year': 1985}}}, {'data': {'uri': 'spotify:album:3JalRx7hoyAC7pyoc7aaw7', 'name': 'Some Assembly Required', 'artists': {'items': [{'uri': 'spotify:artist:1dwRnam2taNMv8H3VR6isd', 'profile': {'name': 'Assembly of Dust'}}]}, 'coverArt': {'sources': [{'url': 'https://i.scdn.co/image/ab67616d00001e023a08256fb7ce8a38b41ea5ff', 'width': 300, 'height': 300}, {'url': 'https://i.scdn.co/image/ab67616d000048513a08256fb7ce8a38b41ea5ff', 'width': 64, 'height': 64}, {'url': 'https://i.scdn.co/image/ab67616d0000b2733a08256fb7ce8a38b41ea5ff', 'width': 640, 'height': 640}]}, 'date': {'year': 2009}}}, {'data': {'uri': 'spotify:album:5gxL1YPTDUtyUG2Qp3wVO0', 'name': 'Required Etiquette Vol. 1', 'artists': {'items': [{'uri': 'spotify:artist:0LyfQWJT6nXafLPZqxe9Of', 'profile': {'name': 'Various Artists'}}]}, 'coverArt': {'sources': [{'url': 'https://i.scdn.co/image/ab67616d00001e023f494786d82cc0f20a452dbe', 'width': 300, 'height': 300}, {'url': 'https://i.scdn.co/image/ab67616d000048513f494786d82cc0f20a452dbe', 'width': 64, 'height': 64}, {'url': 'https://i.scdn.co/image/ab67616d0000b2733f494786d82cc0f20a452dbe', 'width': 640, 'height': 640}]}, 'date': {'year': 2014}}}, {'data': {'uri': 'spotify:album:53aQdegVPKq4MgSGgCQuLz', 'name': 'No Faith Required', 'artists': {'items': [{'uri': 'spotify:artist:4DMlDJn7CPSSS0DuUf1vrH', 'profile': {'name': 'Snowy White'}}, {'uri': 'spotify:artist:5zRIFTHDQwGWKZ7z61fFKb', 'profile': {'name': 'The White Flames'}}]}, 'coverArt': {'sources': [{'url': 'https://i.scdn.co/image/ab67616d00001e02c3e11f275c54926f5bfcb411', 'width': 300, 'height': 300}, {'url': 'https://i.scdn.co/image/ab67616d00004851c3e11f275c54926f5bfcb411', 'width': 64, 'height': 64}, {'url': 'https://i.scdn.co/image/ab67616d0000b273c3e11f275c54926f5bfcb411', 'width': 640, 'height': 640}]}, 'date': {'year': 1996}}}, {'data': {'uri': 'spotify:album:0BbeoTXqQv0qKki6CDcznI', 'name': 'Disassembly Required (Teaser Original Soundtrack)', 'artists': {'items': [{'uri': 'spotify:artist:0yXeAQirPMVzAlhxGvux1s', 'profile': {'name': 'Liam Vickers'}}]}, 'coverArt': {'sources': [{'url': 'https://i.scdn.co/image/ab67616d00001e0226cf2e2751ee0aec2cf62479', 'width': 300, 'height': 300}, {'url': 'https://i.scdn.co/image/ab67616d0000485126cf2e2751ee0aec2cf62479', 'width': 64, 'height': 64}, {'url': 'https://i.scdn.co/image/ab67616d0000b27326cf2e2751ee0aec2cf62479', 'width': 640, 'height': 640}]}, 'date': {'year': 2021}}}, {'data': {'uri': 'spotify:album:1nYOe3S7pWbZwbzS92IScH', 'name': 'Required Repertoire for the 46th PTNA Piano Competition 2022, Vol. 1', 'artists': {'items': [{'uri': 'spotify:artist:0LyfQWJT6nXafLPZqxe9Of', 'profile': {'name': 'Various Artists'}}]}, 'coverArt': {'sources': [{'url': 'https://i.scdn.co/image/ab67616d00001e0258c6ffa1c61bed0f61ac1204', 'width': 300, 'height': 300}, {'url': 'https://i.scdn.co/image/ab67616d0000485158c6ffa1c61bed0f61ac1204', 'width': 64, 'height': 64}, {'url': 'https://i.scdn.co/image/ab67616d0000b27358c6ffa1c61bed0f61ac1204', 'width': 640, 'height': 640}]}, 'date': {'year': 2022}}}, {'data': {'uri': 'spotify:album:3xEUUVwjNVvTaHQjcpea8O', 'name': 'Assembly Required', 'artists': {'items': [{'uri': 'spotify:artist:6ytGxUYeXamODJwiXuZvjO', 'profile': {'name': 'Olivia Penalva'}}]}, 'coverArt': {'sources': [{'url': 'https://i.scdn.co/image/ab67616d00001e02e098b0f0c819f5075263fd0c', 'width': 300, 'height': 300}, {'url': 'https://i.scdn.co/image/ab67616d00004851e098b0f0c819f5075263fd0c', 'width': 64, 'height': 64}, {'url': 'https://i.scdn.co/image/ab67616d0000b273e098b0f0c819f5075263fd0c', 'width': 640, 'height': 640}]}, 'date': {'year': 2022}}}, {'data': {'uri': 'spotify:album:55bIeFDVLsLwa3WEnSJe0C', 'name': 'No Fantasy Required', 'artists': {'items': [{'uri': 'spotify:artist:5l9wiTZVfqQTfMDOt0HtwC', 'profile': {'name': 'Tiga'}}]}, 'coverArt': {'sources': [{'url': 'https://i.scdn.co/image/ab67616d00001e023542e4268c5a12d41a98b164', 'width': 300, 'height': 300}, {'url': 'https://i.scdn.co/image/ab67616d000048513542e4268c5a12d41a98b164', 'width': 64, 'height': 64}, {'url': 'https://i.scdn.co/image/ab67616d0000b2733542e4268c5a12d41a98b164', 'width': 640, 'height': 640}]}, 'date': {'year': 2016}}}, {'data': {'uri': 'spotify:album:2ZNhj2qao5CEasrS2NH45J', 'name': 'No Assembly Required', 'artists': {'items': [{'uri': 'spotify:artist:70BRQ5tBte6kVqHviL3srE', 'profile': {'name': 'Pieces Of A Dream'}}]}, 'coverArt': {'sources': [{'url': 'https://i.scdn.co/image/ab67616d00001e0238b547096e33bf308c492a4b', 'width': 300, 'height': 300}, {'url': 'https://i.scdn.co/image/ab67616d0000485138b547096e33bf308c492a4b', 'width': 64, 'height': 64}, {'url': 'https://i.scdn.co/image/ab67616d0000b27338b547096e33bf308c492a4b', 'width': 640, 'height': 640}]}, 'date': {'year': 2004}}}]\n"
     ]
    }
   ],
   "source": [
    "import requests\n",
    "\n",
    "url = \"https://spotify23.p.rapidapi.com/search/\"\n",
    "\n",
    "querystring = {\"q\":\"<REQUIRED>\",\"type\":\"multi\",\"offset\":\"0\",\"limit\":\"10\",\"numberOfTopResults\":\"5\"}\n",
    "\n",
    "headers = {\n",
    "\t\"X-RapidAPI-Key\": \"0588371053msha6940727d7c83aap107c98jsn19374300bf1d\",\n",
    "\t\"X-RapidAPI-Host\": \"spotify23.p.rapidapi.com\"\n",
    "}\n",
    "\n",
    "response1 = requests.request(\"GET\", url, headers=headers, params=querystring)\n",
    "\n",
    "\n",
    "\n",
    "print(\"Albums\")\n",
    "Music = response1.json().get(\"albums\")\n",
    "Songs = list(Music.items())\n",
    "for key, value in Songs:\n",
    "\tprint(key, value)\n",
    "\n"
   ]
  },
  {
   "cell_type": "code",
   "execution_count": 14,
   "metadata": {},
   "outputs": [
    {
     "name": "stdout",
     "output_type": "stream",
     "text": [
      "Ohio Weather\n",
      "app_temp 70.4\n",
      "aqi 46\n",
      "city_name Kilbourne\n",
      "clouds 7\n",
      "country_code US\n",
      "datetime 2022-10-11:20\n",
      "dewpt 40.7\n",
      "dhi 93.3\n",
      "dni 784.3\n",
      "elev_angle 29.6\n",
      "ghi 474.34\n",
      "gust 14.5\n",
      "h_angle 45\n",
      "lat 40.3675\n",
      "lon -82.9962\n",
      "ob_time 2022-10-11 20:30\n",
      "pod d\n",
      "precip 0\n",
      "pres 988\n",
      "rh 33\n",
      "slp 1021.00433\n",
      "snow 0\n",
      "solar_rad 474.3\n",
      "sources ['rtma']\n",
      "state_code OH\n",
      "station G1320\n",
      "sunrise 11:39\n",
      "sunset 22:58\n",
      "temp 72\n",
      "timezone America/New_York\n",
      "ts 1665520235\n",
      "uv 3.0414183\n",
      "vis 9.3\n",
      "weather {'code': 800, 'icon': 'c01d', 'description': 'Clear sky'}\n",
      "wind_cdir S\n",
      "wind_cdir_full south\n",
      "wind_dir 177\n",
      "wind_spd 9.9\n"
     ]
    }
   ],
   "source": [
    "import requests\n",
    "from sqlalchemy import values\n",
    "\n",
    "url = \"https://weatherbit-v1-mashape.p.rapidapi.com/current\"\n",
    "\n",
    "querystring = {\"lon\":\"-82.996216\",\"lat\":\"40.367474\",\"units\":\"imperial\"}\n",
    "\n",
    "headers = {\n",
    "\t\"X-RapidAPI-Key\": \"0588371053msha6940727d7c83aap107c98jsn19374300bf1d\",\n",
    "\t\"X-RapidAPI-Host\": \"weatherbit-v1-mashape.p.rapidapi.com\"\n",
    "}\n",
    "\n",
    "response = requests.request(\"GET\", url, headers=headers, params=querystring)\n",
    "\n",
    "print(\"Ohio Weather\")\n",
    "weatherData = response.json().get(\"data\")\n",
    "OHweather = list(weatherData[0].items())\n",
    "for key, value in OHweather:\n",
    "\tprint(key, value)\n",
    "\n",
    "\n"
   ]
  }
 ],
 "metadata": {
  "kernelspec": {
   "display_name": "Python 3.9.12 ('base')",
   "language": "python",
   "name": "python3"
  },
  "language_info": {
   "codemirror_mode": {
    "name": "ipython",
    "version": 3
   },
   "file_extension": ".py",
   "mimetype": "text/x-python",
   "name": "python",
   "nbconvert_exporter": "python",
   "pygments_lexer": "ipython3",
   "version": "3.9.12 (main, Apr  5 2022, 06:56:58) \n[GCC 7.5.0]"
  },
  "orig_nbformat": 4,
  "vscode": {
   "interpreter": {
    "hash": "5e6e94ee7eb6faa549b0272dc29cdf01ee84757b8521322f0009accfa480a59f"
   }
  }
 },
 "nbformat": 4,
 "nbformat_minor": 2
}
