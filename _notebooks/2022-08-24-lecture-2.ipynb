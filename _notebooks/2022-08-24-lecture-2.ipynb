{
 "cells": [
  {
   "cell_type": "markdown",
   "metadata": {},
   "source": [
    "# LECTURE 2\n",
    "\n",
    "- toc: true\n",
    "- branch: master\n",
    "- badges: true\n",
    "- comments: true\n",
    "- author: Haseeb Beg\n",
    "- categories: [fastpages, jupyter] "
   ]
  },
  {
   "cell_type": "markdown",
   "metadata": {},
   "source": [
    "# NOTES\n",
    "\n",
    "- Make a google doc, put it on docx, then proceed to somehow organize it in the blog. \n",
    "\n",
    "- In front matter, there is a key and a value.\n",
    "    >Ex: branch: master (branch is the key master is the value.)\n",
    "\n",
    "- If key is present you MUST have a value.\n",
    "\n",
    "- Go to _pages to add/edit subpages.\n",
    "    >ie: About Me\n",
    "\n",
    "- Special key known as site.baseurl. If you add {{}} on it you can make a directory to a file.\n",
    "\n",
    "- Secrets are in _config.yml, you can add images there.\n",
    "\n",
    "-  In config.yml, you can make show_image: true and you can now add images to posts.\n",
    "    >to add an img to a post, do /image: {insert image link here, it should start with /images}\n",
    "\n",
    "- NOTE: USE LIST AND FOR LOOPS"
   ]
  },
  {
   "cell_type": "markdown",
   "metadata": {},
   "source": []
  }
 ],
 "metadata": {
  "kernelspec": {
   "display_name": "Python 3.8.10 64-bit",
   "language": "python",
   "name": "python3"
  },
  "language_info": {
   "name": "python",
   "version": "3.8.10"
  },
  "orig_nbformat": 4,
  "vscode": {
   "interpreter": {
    "hash": "916dbcbb3f70747c44a77c7bcd40155683ae19c65e1c03b4aa3499c5328201f1"
   }
  }
 },
 "nbformat": 4,
 "nbformat_minor": 2
}
