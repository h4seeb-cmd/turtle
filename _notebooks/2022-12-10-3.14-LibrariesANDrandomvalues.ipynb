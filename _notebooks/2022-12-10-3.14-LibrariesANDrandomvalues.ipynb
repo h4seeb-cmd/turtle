{
 "cells": [
  {
   "attachments": {},
   "cell_type": "markdown",
   "metadata": {},
   "source": [
    "# Unit 3.14 Libraries Lesson\n",
    "> Here is our lesson about libraries!\n",
    "\n",
    "- toc: true\n",
    "- comments: true\n",
    "- categories: [Week-13,Big-Idea-3]"
   ]
  },
  {
   "attachments": {},
   "cell_type": "markdown",
   "metadata": {},
   "source": [
    "Purpose: Help students streamline and make their coding experience easier through built in packages and methods from a library\n",
    "<br>Objective: By the end of the lesson, students should be able to fluently use methods from the turtle and math packages, and be able to look up documentation for any python package and us it."
   ]
  },
  {
   "attachments": {},
   "cell_type": "markdown",
   "metadata": {},
   "source": [
    "fill in the blanks!\n",
    "# Libararies\n",
    "Okay, so we've learned a lot of code, and all of you now can boast that you can code at least some basic programs in python. But, what about more advanced stuff? What if there's a more advanced program you don't know how to make? Do you need to make it yourself? Well, not always.\n",
    "\n",
    "You've already learned about functions that you can write to reuse in your code in previous lessons. But,there are many others who code in python just like you. So why would you do again what someone has already done, and is available for any python user?\n",
    "\n",
    "Packages allow a python user to import methods from a library, and use the methods in their code. Most libraries come with documentation on the different methods they entail and how to use them, and they can be found with a quick google search. methods are used with the following:\n",
    "\n",
    "### Note: a method from a package can only be used after the import statement.\n",
    "Some libraries are always installed, such as those with the list methods which we have previously discussed. But others require a special python keyword called import. We will learn different ways to import in Challenge 1.\n",
    "\n",
    "Sometimes we only need to import a single method from the package. We can do that with the word \"import\", followed by the package name, then the word \"import\", then the method. This will alllow you to use the method without mentioning the package's name, unlike what we did before, however other methods from that package cannot be used. To get the best of both worlds you can use \"*\".\n",
    "\n",
    "To import a method as an easier name, just do what we did first, add the word \"as\", and write the name you would like to use that package as.\n",
    "# Challenge 1: Basic Libraries\n",
    "1. Find a python package on the internet and import it\n",
    "2. Choose a method from the package and import only the method\n",
    "3. import the package as a more convenient name."
   ]
  },
  {
   "cell_type": "code",
   "execution_count": 1,
   "metadata": {},
   "outputs": [
    {
     "name": "stdout",
     "output_type": "stream",
     "text": [
      "2.0\n"
     ]
    }
   ],
   "source": [
    "# By using from x import *, you no longer have to specify x.command, you can just put the name as of the command.\n",
    "\n",
    "from math import sqrt as m \n",
    "from random import randint as rd\n",
    "print(m(rd(1,10)))"
   ]
  },
  {
   "attachments": {},
   "cell_type": "markdown",
   "metadata": {},
   "source": [
    "# Challenge 2: Turtle\n",
    "Turtle is a python drawing library which allows you to draw all kinds of different shapes. It's ofter used to teach beginning python learners, but is really cool to use anywhere. Turtle employs a graphics package to display what you've done, but unfortunately it's kind of annoying to make work with vscode.\n",
    "<br>\n",
    "Use: repl.it\n",
    "<br>\n",
    "Click \"+ Create\", and for language, select \"Python (with Turtle)\"\n",
    "<br>\n",
    "[Documentation](https://docs.python.org/3/library/turtle.html#turtle.pendown)<br>\n",
    "Task: Have fun with turtle! Create something that uses at least 2 lines of different lengths and 2 turns with different angles, and changes at least one setting about either the pen or canvas. Also use one command that isn't mentioned on the table below(there are a lot). Paste a screenshot of the code and the drawing from repl.it\n",
    "\n",
    "|Commands|\n",
    "|--------|\n",
    "|forward(pixels)|\n",
    "|right(degrees)|\n",
    "|left(degrees)|\n",
    "|setpos(x,y)|\n",
    "|speed(speed)|\n",
    "|pensize(size)|\n",
    "|pencolor(color)|\n",
    "Note: Color should be within quotes, like \"brown\", or \"red\"\n",
    "\n"
   ]
  },
  {
   "attachments": {},
   "cell_type": "markdown",
   "metadata": {},
   "source": [
    "<!--![yes](/images/TORT.png)-->\n",
    "CHECK THE REVIEW TICKET. IMGS NOT WORKING."
   ]
  },
  {
   "attachments": {},
   "cell_type": "markdown",
   "metadata": {},
   "source": [
    "# Challenge 3: Math\n",
    "The math package allows for some really cool mathematical methods!<br>\n",
    "\n",
    "|methods|Action|\n",
    "|-------|------|\n",
    "|ceil(x)|Rounds up to the nearest inteer|\n",
    "|floor(x)|rounds to largest integer less than or equal to x|\n",
    "|factorial(x)|returns the factorial of the specified number|\n",
    "|gcf(x,y)|returns the greatest common denominator of x and y|\n",
    "|lcm(x,y)|returns the least common mulitple of x and y|\n",
    "\n",
    "##### Challenge: Create a program which asks for a user input of two numbers, and returns the following:\n",
    "- each number rounded up\n",
    "- each number rounded down\n",
    "- the lcm of the rounded down numbers\n",
    "- the gcf of the rounded up numbers\n",
    "- the factorial of each number\n",
    "- something else using the math package!<br>\n",
    "[Documentation](https://docs.python.org/3/library/math.html)"
   ]
  },
  {
   "cell_type": "code",
   "execution_count": 2,
   "metadata": {},
   "outputs": [
    {
     "name": "stdout",
     "output_type": "stream",
     "text": [
      "0\n"
     ]
    }
   ],
   "source": [
    "from math import ceil as c\n",
    "from math import floor as f\n",
    "x = int(input(\"What number do you want to choose?\"))\n",
    "y = int(input(\"one more...\"))\n",
    "def floor():\n",
    "    z = int(x / y)\n",
    "    N = f(z)\n",
    "    return N\n",
    "print(floor())    "
   ]
  },
  {
   "attachments": {},
   "cell_type": "markdown",
   "metadata": {},
   "source": [
    "# Homework: Putting it all together(complete only after the random values lesson)\n",
    "Option 1: Create a python program which generates a random number between 1 and 10, and use turtle to draw a regular polygon with that many sides. As a hint, remember that the total sum of all the angles in a polygon is (the number of sides - 2) * 180. Note: a regular polygon has all sides and angles the same size. Paste a screenshot of the code and the drawing from repl.it\n",
    "\n",
    "Option 2: use the \"datetime\" package, and looking up documentation, create a program to generate 2 random dates and find the number of days between\n",
    "\n",
    "\n",
    "Extra ideas: customize the settings, draw a picture, or something else!"
   ]
  },
  {
   "cell_type": "code",
   "execution_count": 3,
   "metadata": {},
   "outputs": [
    {
     "name": "stdout",
     "output_type": "stream",
     "text": [
      "12-6-2007\n",
      "5-25-2007\n",
      "There are 195 days between 12-6-2007 & 5-25-2007\n"
     ]
    }
   ],
   "source": [
    "import random as r\n",
    "\n",
    "scaleDict = {\n",
    "    1 : 31,\n",
    "    2 : 28,\n",
    "    3 : 31,\n",
    "    4 : 30,\n",
    "    5 : 31,\n",
    "    6 : 30,\n",
    "    7 : 31,\n",
    "    8 : 31,\n",
    "    9 : 30,\n",
    "    10 : 31,\n",
    "    11 : 30,\n",
    "    12 : 31,\n",
    "}\n",
    "\n",
    "fmonth = int(input(\"Enter a month\"))\n",
    "fday = int(input(\"Enter a day\"))\n",
    "year = int(input(\"Enter a year\"))\n",
    "fdate = str(fmonth) + \"-\" + str(fday) + \"-\" + str(year)\n",
    "print(fdate)\n",
    "\n",
    "pmonth = r.randint(1,12)\n",
    "pdayrange = scaleDict.get(pmonth)\n",
    "pday = r.randint(0,pdayrange)\n",
    "pdate = str(pmonth) + \"-\" + str(pday) + \"-\" + str(year)\n",
    "print(pdate)\n",
    "\n",
    "def days(months ,day):\n",
    "    start = 0\n",
    "\n",
    "    for i in range (1,months):\n",
    "        start += (scaleDict.get(i))\n",
    "\n",
    "    start += int(day)\n",
    "    return(start)\n",
    "\n",
    "uabs = days(fmonth, fday)\n",
    "rabs = days(pmonth,pday)\n",
    "dist = abs(uabs - rabs)\n",
    "\n",
    "print(\"There are \" + str(dist) + \" days between \" + fdate + \" & \" + pdate)"
   ]
  },
  {
   "attachments": {},
   "cell_type": "markdown",
   "metadata": {},
   "source": [
    "# 3.15 Student Copy"
   ]
  },
  {
   "attachments": {},
   "cell_type": "markdown",
   "metadata": {},
   "source": [
    "ADD YOUR ADDITIONAL NOTES HERE:\n",
    "- Lists make it so every number has an equal chance of being picked if chosen at random.\n",
    "- Some topics that use luck are rolling dice, cryptography, etc."
   ]
  },
  {
   "attachments": {},
   "cell_type": "markdown",
   "metadata": {},
   "source": [
    "What are Examples of Random outputs in the world?  Add a few you can think of. \n",
    "- Ex: Marbles\n",
    "- Cryptography\n",
    "- Dice\n",
    "- Statistics\n",
    "- The Lottery"
   ]
  },
  {
   "attachments": {},
   "cell_type": "markdown",
   "metadata": {},
   "source": [
    "## Why do we need Random Values for code?\n",
    "We need random values for code because when we want to run things like simulations, we need to be able to simulate the randomness of the real world. Furthurmore, it's good for testing and debugging code."
   ]
  },
  {
   "cell_type": "code",
   "execution_count": 4,
   "metadata": {},
   "outputs": [
    {
     "name": "stdout",
     "output_type": "stream",
     "text": [
      "28\n"
     ]
    }
   ],
   "source": [
    "import random\n",
    "random_number = random.randint(1,100)\n",
    "print(random_number)"
   ]
  },
  {
   "cell_type": "code",
   "execution_count": 5,
   "metadata": {},
   "outputs": [
    {
     "name": "stdout",
     "output_type": "stream",
     "text": [
      "blueberry\n"
     ]
    }
   ],
   "source": [
    "import random\n",
    "\n",
    "def randomlist():\n",
    "    list = [\"apple\", \"banana\", \"cherry\", \"blueberry\"]\n",
    "    element = random.choice(list)\n",
    "    print(element)\n",
    "randomlist()"
   ]
  },
  {
   "cell_type": "code",
   "execution_count": 6,
   "metadata": {},
   "outputs": [
    {
     "name": "stdout",
     "output_type": "stream",
     "text": [
      "Roll 1:1\n",
      "Roll 2:6\n",
      "Roll 3:4\n"
     ]
    }
   ],
   "source": [
    "import random\n",
    "for i in range(3):\n",
    "    roll = random.randint(1,6)\n",
    "    print(\"Roll \" + str(i + 1) + \":\" + str(roll))"
   ]
  },
  {
   "attachments": {},
   "cell_type": "markdown",
   "metadata": {},
   "source": [
    "# CHALLENGE 1"
   ]
  },
  {
   "cell_type": "code",
   "execution_count": 7,
   "metadata": {},
   "outputs": [
    {
     "name": "stdout",
     "output_type": "stream",
     "text": [
      "tails\n"
     ]
    }
   ],
   "source": [
    "from random import randint as r\n",
    "\n",
    "def coinflip():\n",
    "    roll = r(1,2)\n",
    "    if roll == 1:\n",
    "        return \"heads\"\n",
    "    else:\n",
    "        return \"tails\"\n",
    "print(coinflip())"
   ]
  },
  {
   "attachments": {},
   "cell_type": "markdown",
   "metadata": {},
   "source": [
    "# HOMEWORK"
   ]
  },
  {
   "cell_type": "code",
   "execution_count": 10,
   "metadata": {},
   "outputs": [
    {
     "name": "stdout",
     "output_type": "stream",
     "text": [
      "Original number: 62\n",
      "\n",
      "Binary: 0b111110\n",
      "\n",
      "Equivalent Hexadecimal Value = 3E"
     ]
    }
   ],
   "source": [
    "import random as r \n",
    "\n",
    "x = r.randint(0, 255)\n",
    "\n",
    "def decToBin(N):\n",
    "    return bin(N)\n",
    "\n",
    "def decToHex(N):\n",
    "    i = 0\n",
    "    hexDec = []\n",
    "    while N!=0:\n",
    "        rm = N % 16\n",
    "        if rm<10:\n",
    "            rm = rm+48\n",
    "        else:\n",
    "            rm = rm+55\n",
    "        hexDec.insert(i, chr(rm))\n",
    "        i = i+1\n",
    "        N = int(N / 16)\n",
    "    print(\"\\nEquivalent Hexadecimal Value = \", end=\"\")\n",
    "    i = i-1\n",
    "    while i>=0:\n",
    "        print(end=hexDec[i])\n",
    "        i = i-1\n",
    "\n",
    "print(\"Original number: \" + str(x))\n",
    "print(\"\\nBinary: \" + str(decToBin(x)))\n",
    "decToHex(x)"
   ]
  }
 ],
 "metadata": {
  "kernelspec": {
   "display_name": "Python 3.9.12 ('base')",
   "language": "python",
   "name": "python3"
  },
  "language_info": {
   "codemirror_mode": {
    "name": "ipython",
    "version": 3
   },
   "file_extension": ".py",
   "mimetype": "text/x-python",
   "name": "python",
   "nbconvert_exporter": "python",
   "pygments_lexer": "ipython3",
   "version": "3.9.12 (main, Apr  5 2022, 06:56:58) \n[GCC 7.5.0]"
  },
  "orig_nbformat": 4,
  "vscode": {
   "interpreter": {
    "hash": "5e6e94ee7eb6faa549b0272dc29cdf01ee84757b8521322f0009accfa480a59f"
   }
  }
 },
 "nbformat": 4,
 "nbformat_minor": 2
}
