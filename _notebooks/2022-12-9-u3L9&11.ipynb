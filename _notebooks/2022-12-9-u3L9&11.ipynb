{
 "cells": [
  {
   "cell_type": "markdown",
   "metadata": {},
   "source": [
    "# Unit 3 Lesson 9 & 11 HW\n",
    "> Notebook that compiles all the tangibles required for Unit 3 Lesson 9 and 11\n",
    "- toc: true \n",
    "- badges: true\n",
    "- comments: true"
   ]
  },
  {
   "cell_type": "markdown",
   "metadata": {},
   "source": [
    "# Developing Algorithms Tasks and HW\n",
    "\n",
    "\n",
    "\n",
    "### Tasks:"
   ]
  },
  {
   "cell_type": "code",
   "execution_count": 1,
   "metadata": {},
   "outputs": [
    {
     "name": "stdout",
     "output_type": "stream",
     "text": [
      "25\n"
     ]
    }
   ],
   "source": [
    "sum = 0\n",
    "counter = 1\n",
    "sum = 0\n",
    "for i in range (1, 10, 2):\n",
    "    sum = sum + i\n",
    "print(sum)"
   ]
  },
  {
   "cell_type": "markdown",
   "metadata": {},
   "source": [
    "### HW:"
   ]
  },
  {
   "cell_type": "code",
   "execution_count": 2,
   "metadata": {},
   "outputs": [
    {
     "name": "stdout",
     "output_type": "stream",
     "text": [
      "6\n",
      "3\n",
      "10\n",
      "5\n",
      "16\n",
      "8\n",
      "4\n",
      "2\n",
      "1\n"
     ]
    }
   ],
   "source": [
    "def collatz(N):\n",
    "    if N == 1: # If the variable = 1, simply print it\n",
    "        print(N)\n",
    "        return \n",
    "    elif N % 2 == 0: # However, if this number is not one and an even number, print it and divide it by 2\n",
    "        print(N)\n",
    "        collatz(N // 2)\n",
    "    else: # If it's not 1 or even, it must be an odd number that isn't 1 and in that case, multiply by 3 and add 1\n",
    "        print(N)\n",
    "        collatz(N * 3 + 1)\n",
    "    \n",
    "collatz(6) # Calls the function with the argument 6"
   ]
  },
  {
   "cell_type": "markdown",
   "metadata": {},
   "source": [
    "# Searching Introduction HW\n",
    "\n",
    "\n",
    "\n",
    "### HW:"
   ]
  },
  {
   "cell_type": "code",
   "execution_count": 22,
   "metadata": {},
   "outputs": [
    {
     "name": "stdout",
     "output_type": "stream",
     "text": [
      "5\n"
     ]
    }
   ],
   "source": [
    "def sqrt(N):\n",
    "    # Checking to see if the number is 1 or 0, as the sqrt of 1 = 1 and the sqrt 0 = 0.\n",
    "    if N < 2: \n",
    "        return N\n",
    "    # If the number is not 1 or 0, it will proceed to do the following:\n",
    "    else:\n",
    "        y = N # Creating a variable y, and setting that = N, which is a variable that represents whatever integer that is put into the function\n",
    "        z = (y + (N/y)) // 2 # creating the equation that divides N down\n",
    "        while y - z >= 0.00001: # this while loop continues this process until we get our desired answer\n",
    "            y = z\n",
    "            z = (y + (N/y)) / 2\n",
    "        return z # returns our answer\n",
    "\n",
    "if __name__ == '__main__': # setting N to a placeholder value of 25 in this cell to test\n",
    "    N = 25\n",
    "    \n",
    "    answer = round(sqrt(N)) # set final answer to the rounded product of the function.\n",
    "    print(answer)"
   ]
  },
  {
   "cell_type": "code",
   "execution_count": 7,
   "metadata": {},
   "outputs": [
    {
     "name": "stdout",
     "output_type": "stream",
     "text": [
      "Check number 1 passed\n",
      "Check number 2 passed\n",
      "Check number 3 passed\n",
      "Check number 4 passed\n",
      "Check number 5 passed\n",
      "Check number 6 passed\n",
      "Check number 7 passed\n",
      "Check number 8 passed\n",
      "Check number 9 passed\n",
      "Check number 10 passed\n",
      "Check number 11 passed\n",
      "Check number 12 passed\n",
      "Check number 13 passed\n"
     ]
    }
   ],
   "source": [
    "test_cases = [0,1,4,85248289,22297284,18939904,91107025,69122596,9721924,37810201,1893294144,8722812816,644398225]\n",
    "answers = [int(sqrt(x)) for x in test_cases]\n",
    "\n",
    "def checkValid():\n",
    "    for i in range(len(test_cases)):\n",
    "        if sqrt(test_cases[i]) == answers[i]:\n",
    "            print(\"Check number {} passed\".format(i+1))\n",
    "        else:\n",
    "            print(\"Check number {} failed\".format(i+1))\n",
    "\n",
    "checkValid()"
   ]
  }
 ],
 "metadata": {
  "kernelspec": {
   "display_name": "Python 3.9.12 ('base')",
   "language": "python",
   "name": "python3"
  },
  "language_info": {
   "codemirror_mode": {
    "name": "ipython",
    "version": 3
   },
   "file_extension": ".py",
   "mimetype": "text/x-python",
   "name": "python",
   "nbconvert_exporter": "python",
   "pygments_lexer": "ipython3",
   "version": "3.9.12"
  },
  "orig_nbformat": 4,
  "vscode": {
   "interpreter": {
    "hash": "5e6e94ee7eb6faa549b0272dc29cdf01ee84757b8521322f0009accfa480a59f"
   }
  }
 },
 "nbformat": 4,
 "nbformat_minor": 2
}
