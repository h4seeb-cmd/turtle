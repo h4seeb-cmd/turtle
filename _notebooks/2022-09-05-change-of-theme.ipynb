{
 "cells": [
  {
   "cell_type": "markdown",
   "metadata": {},
   "source": [
    "# My Theme Changing Experience\n",
    "> What would happen if I changed my theme?\n",
    "- toc: true\n",
    "- branch: master\n",
    "- layout: post\n",
    "- title: My Theme Changing Experience\n",
    "- badges: true\n",
    "- comments: true\n",
    "- author: Haseeb Beg\n",
    "- categories: [fastpages, jupyter, Week 2]"
   ]
  },
  {
   "cell_type": "markdown",
   "metadata": {},
   "source": [
    "## Changing My Theme\n",
    "\n",
    "I was wondering what Turtle would look like under a new coat of paint, and I decided that I wanted to try out a new theme! I ended up choosing the theme Midnight, and this is how it turned out:\n",
    "\n",
    "![]({{site.baseurl}}/images/midnight.png \"https://github.com/h4seeb-cmd/turtle\")\n"
   ]
  },
  {
   "cell_type": "markdown",
   "metadata": {},
   "source": []
  }
 ],
 "metadata": {
  "kernelspec": {
   "display_name": "Python 3.8.10 64-bit",
   "language": "python",
   "name": "python3"
  },
  "language_info": {
   "name": "python",
   "version": "3.8.10"
  },
  "orig_nbformat": 4,
  "vscode": {
   "interpreter": {
    "hash": "916dbcbb3f70747c44a77c7bcd40155683ae19c65e1c03b4aa3499c5328201f1"
   }
  }
 },
 "nbformat": 4,
 "nbformat_minor": 2
}
