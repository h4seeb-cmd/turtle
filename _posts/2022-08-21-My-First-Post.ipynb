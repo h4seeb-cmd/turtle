{
 "cells": [
  {
   "cell_type": "markdown",
   "metadata": {},
   "source": [
    "# Welcome to Turtle!\n",
    ">My first ever blog post, who I am!"
   ]
  },
  {
   "cell_type": "markdown",
   "metadata": {},
   "source": [
    "- toc: true\n",
    "- branch: master\n",
    "- badges: true\n",
    "- comments: true\n",
    "- author: Haseeb Beg"
   ]
  },
  {
   "cell_type": "markdown",
   "metadata": {},
   "source": [
    "# Hello World! 🌎\n",
    "\n",
    ">This is my very first blog post on this website! My name is Haseeb Beg, and I can't wait to learn more about CS!\n",
    "\n",
    "\n",
    "## My Interests\n",
    "\n",
    ">I have a lot of things I like to do, some of them are:\n",
    "- Music Production 🎹\n",
    "- Working Out 💪 \n",
    "- Gaming 🎮\n",
    "\n",
    "\n",
    "## Thanks For Reading!\n",
    "\n",
    ">Comment down below if you have any suggestions as to how I could improve my blog! "
   ]
  }
 ],
 "metadata": {
  "kernelspec": {
   "display_name": "Python 3.8.10 64-bit",
   "language": "python",
   "name": "python3"
  },
  "language_info": {
   "name": "python",
   "version": "3.8.10"
  },
  "orig_nbformat": 4,
  "vscode": {
   "interpreter": {
    "hash": "916dbcbb3f70747c44a77c7bcd40155683ae19c65e1c03b4aa3499c5328201f1"
   }
  }
 },
 "nbformat": 4,
 "nbformat_minor": 2
}
